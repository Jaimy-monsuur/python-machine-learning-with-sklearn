{
 "cells": [
  {
   "cell_type": "markdown",
   "source": [
    "Import stuff"
   ],
   "metadata": {
    "collapsed": false
   }
  },
  {
   "cell_type": "code",
   "execution_count": 308,
   "metadata": {
    "collapsed": true
   },
   "outputs": [],
   "source": [
    "import numpy as np\n",
    "import pandas as pd"
   ]
  },
  {
   "cell_type": "markdown",
   "source": [
    "Read data"
   ],
   "metadata": {
    "collapsed": false
   }
  },
  {
   "cell_type": "code",
   "execution_count": 309,
   "outputs": [
    {
     "data": {
      "text/plain": "   Unnamed: 0                      Event                          Date   \n0           0  1350 BC plague of Megiddo                       1350 BC  \\\n1           1           Plague of Athens                    430–426 BC   \n2           2            412 BC epidemic                        412 BC   \n3           3            Antonine Plague  165–180 (possibly up to 190)   \n4           4             Jian'an Plague                           217   \n\n                                   Location   \n0                   Megiddo, land of Canaan  \\\n1            Greece, Libya, Egypt, Ethiopia   \n2  Greece (Northern Greece, Roman Republic)   \n3                              Roman Empire   \n4                               Han Dynasty   \n\n                                             Disease Death toll (estimate)   \n0  Amarna letters EA 244, Biridiya, mayor of Megi...               Unknown  \\\n1  Unknown, possibly typhus, typhoid fever or vir...        75,000–100,000   \n2                        Unknown, possibly influenza               Unknown   \n3                         Unknown, possibly smallpox          5–10 million   \n4  Unknown, possibly typhoid fever or viral hemor...               Unknown   \n\n               Ref.  \n0              [26]  \n1  [27][28][29][30]  \n2              [31]  \n3          [32][33]  \n4          [34][35]  ",
      "text/html": "<div>\n<style scoped>\n    .dataframe tbody tr th:only-of-type {\n        vertical-align: middle;\n    }\n\n    .dataframe tbody tr th {\n        vertical-align: top;\n    }\n\n    .dataframe thead th {\n        text-align: right;\n    }\n</style>\n<table border=\"1\" class=\"dataframe\">\n  <thead>\n    <tr style=\"text-align: right;\">\n      <th></th>\n      <th>Unnamed: 0</th>\n      <th>Event</th>\n      <th>Date</th>\n      <th>Location</th>\n      <th>Disease</th>\n      <th>Death toll (estimate)</th>\n      <th>Ref.</th>\n    </tr>\n  </thead>\n  <tbody>\n    <tr>\n      <th>0</th>\n      <td>0</td>\n      <td>1350 BC plague of Megiddo</td>\n      <td>1350 BC</td>\n      <td>Megiddo, land of Canaan</td>\n      <td>Amarna letters EA 244, Biridiya, mayor of Megi...</td>\n      <td>Unknown</td>\n      <td>[26]</td>\n    </tr>\n    <tr>\n      <th>1</th>\n      <td>1</td>\n      <td>Plague of Athens</td>\n      <td>430–426 BC</td>\n      <td>Greece, Libya, Egypt, Ethiopia</td>\n      <td>Unknown, possibly typhus, typhoid fever or vir...</td>\n      <td>75,000–100,000</td>\n      <td>[27][28][29][30]</td>\n    </tr>\n    <tr>\n      <th>2</th>\n      <td>2</td>\n      <td>412 BC epidemic</td>\n      <td>412 BC</td>\n      <td>Greece (Northern Greece, Roman Republic)</td>\n      <td>Unknown, possibly influenza</td>\n      <td>Unknown</td>\n      <td>[31]</td>\n    </tr>\n    <tr>\n      <th>3</th>\n      <td>3</td>\n      <td>Antonine Plague</td>\n      <td>165–180 (possibly up to 190)</td>\n      <td>Roman Empire</td>\n      <td>Unknown, possibly smallpox</td>\n      <td>5–10 million</td>\n      <td>[32][33]</td>\n    </tr>\n    <tr>\n      <th>4</th>\n      <td>4</td>\n      <td>Jian'an Plague</td>\n      <td>217</td>\n      <td>Han Dynasty</td>\n      <td>Unknown, possibly typhoid fever or viral hemor...</td>\n      <td>Unknown</td>\n      <td>[34][35]</td>\n    </tr>\n  </tbody>\n</table>\n</div>"
     },
     "execution_count": 309,
     "metadata": {},
     "output_type": "execute_result"
    }
   ],
   "source": [
    "df = pd.read_csv('data.csv')\n",
    "df.head()"
   ],
   "metadata": {
    "collapsed": false
   }
  },
  {
   "cell_type": "code",
   "execution_count": 310,
   "outputs": [
    {
     "data": {
      "text/plain": "array(['Amarna letters EA 244, Biridiya, mayor of Megiddo complains to Amenhotep III of his area being \"consumed by death, plague and dust\"',\n       'Unknown, possibly typhus, typhoid fever or viral hemorrhagic fever',\n       'Unknown, possibly influenza', 'Unknown, possibly smallpox',\n       'Unknown, possibly typhoid fever or viral hemorrhagic fever',\n       'Bubonic plague', 'Smallpox',\n       'Bubonic plague Yersinia pestis bacterium',\n       'Unknown, possibly an unknown species of hantavirus', 'Typhus',\n       'Influenza', 'Possibly Salmonella enterica', 'Measles', 'Malaria',\n       'Unknown, possibly leptospirosis with Weil syndrome. Classic explanations include yellow fever, bubonic plague, influenza, smallpox, chickenpox, typhus, and syndemic infection of hepatitis B and hepatitis D',\n       'Smallpox and Influenza', 'Yellow fever', 'Diphtheria',\n       'Dengue fever', 'Cholera', 'Malaria, possibly other diseases too',\n       'Measles, whooping cough, dysentery and influenza',\n       'Typhoid fever', 'Scarlet fever',\n       'Influenza or Human coronavirus OC43 / HCoV-OC43[15][168] (disputed)',\n       'African trypanosomiasis', 'Kuru', 'Pneumonic plague',\n       'Encephalitis lethargica', 'Poliomyelitis',\n       'Influenza A virus subtype H1N1 H1N1 virus', 'Psittacosis',\n       'Relapsing fever', 'Influenza A virus subtype H2N2',\n       'Cholera (El Tor strain)',\n       'Influenza A virus subtype H3N2 H3N2 virus',\n       'Influenza A virus subtype H3N2', 'Influenza A virus subtype H1N1',\n       'Anthrax', 'HIV/AIDS Human immunodeficiency virus', 'Hepatitis A',\n       'Bubonic plague and Pneumonic plague',\n       'Variant Creutzfeldt–Jakob disease / vCJD', 'Meningitis',\n       'Nipah virus infection', 'Marburg virus',\n       'Severe acute respiratory syndrome / SARS',\n       'Influenza A virus subtype H5N1', 'Ebola', 'Rift Valley fever',\n       'Q-fever', 'Hand, foot, and mouth disease', 'Hepatitis B',\n       'Cholera (strain serogroup O1, serotype Ogawa)',\n       'Middle East respiratory syndrome / MERS-CoV',\n       'Ebola Ebola virus virion', 'Chikungunya',\n       'Influenza A virus subtype H7N9', \"Legionnaires' disease\",\n       'Primarily Hepatitis E, but also Hepatitis A', 'Zika virus',\n       'Japanese encephalitis',\n       'New Delhi metallo-beta-lactamase-producing Carbapenem-resistant enterobacteriaceae',\n       'Lassa fever',\n       'Coronavirus disease 2019 / COVID-19 SARS-CoV-2 virus',\n       'Black fungus (COVID-19 condition)',\n       'Hepatitis by Adenovirus variant AF41 (Unconfirmed)',\n       'Monkeypox virus', 'Sudan ebolavirus'], dtype=object)"
     },
     "execution_count": 310,
     "metadata": {},
     "output_type": "execute_result"
    }
   ],
   "source": [
    "df['Disease'].unique()"
   ],
   "metadata": {
    "collapsed": false
   }
  },
  {
   "cell_type": "code",
   "execution_count": 311,
   "outputs": [
    {
     "data": {
      "text/plain": "array(['Other', 'Plague', 'Smallpox', 'Typhus', 'Influenza', 'Measles',\n       'Malaria', 'Yellow fever', 'Diphtheria', 'Dengue fever', 'Cholera',\n       'Typhoid fever', 'Scarlet fever', 'African trypanosomiasis',\n       'Kuru', 'Encephalitis lethargica', 'Poliomyelitis', 'Psittacosis',\n       'Relapsing fever', 'Anthrax', 'HIV/AIDS', 'Hepatitis',\n       'Bubonic and Pneumonic plague',\n       'Variant Creutzfeldt–Jakob disease', 'Meningitis',\n       'Nipah virus infection', 'Marburg virus', 'SARS', 'Ebola',\n       'Rift Valley fever', 'Q-fever', 'Hand, foot, and mouth disease',\n       'Middle East respiratory syndrome', 'Chikungunya',\n       \"Legionnaires' disease\", 'Hepatitis E', 'Zika virus',\n       'Japanese encephalitis'], dtype=object)"
     },
     "execution_count": 311,
     "metadata": {},
     "output_type": "execute_result"
    }
   ],
   "source": [
    "disease_mapping = {\n",
    "    'Plague': ['Bubonic plague', 'Pneumonic plague', 'Bubonic plague Yersinia pestis bacterium'],\n",
    "    'Influenza': ['Influenza', 'Influenza A virus subtype H1N1 H1N1 virus', 'Influenza A virus subtype H2N2',\n",
    "                  'Influenza A virus subtype H3N2 H3N2 virus', 'Influenza A virus subtype H3N2',\n",
    "                  'Influenza A virus subtype H1N1', 'Influenza A virus subtype H5N1', 'Influenza A virus subtype H7N9'],\n",
    "    'Smallpox': ['Smallpox', 'Smallpox and Influenza'],\n",
    "    'Typhus': ['Typhus'],\n",
    "    'Cholera': ['Cholera', 'Cholera (El Tor strain)', 'Cholera (strain serogroup O1, serotype Ogawa)'],\n",
    "    'Measles': ['Measles'],\n",
    "    'Malaria': ['Malaria'],\n",
    "    'Hepatitis': ['Hepatitis', 'Hepatitis A', 'Hepatitis B'],\n",
    "    'Dengue fever': ['Dengue fever'],\n",
    "    'Yellow fever': ['Yellow fever'],\n",
    "    'Diphtheria': ['Diphtheria'],\n",
    "    'Scarlet fever': ['Scarlet fever'],\n",
    "    'Typhoid fever': ['Typhoid fever'],\n",
    "    'African trypanosomiasis': ['African trypanosomiasis'],\n",
    "    'Kuru': ['Kuru'],\n",
    "    'Pneumonic plague': ['Pneumonic plague'],\n",
    "    'Encephalitis lethargica': ['Encephalitis lethargica'],\n",
    "    'Poliomyelitis': ['Poliomyelitis'],\n",
    "    'Psittacosis': ['Psittacosis'],\n",
    "    'Relapsing fever': ['Relapsing fever'],\n",
    "    'Anthrax': ['Anthrax'],\n",
    "    'HIV/AIDS': ['HIV/AIDS Human immunodeficiency virus'],\n",
    "    'Bubonic and Pneumonic plague': ['Bubonic plague and Pneumonic plague'],\n",
    "    'Variant Creutzfeldt–Jakob disease': ['Variant Creutzfeldt–Jakob disease / vCJD'],\n",
    "    'Meningitis': ['Meningitis'],\n",
    "    'Nipah virus infection': ['Nipah virus infection'],\n",
    "    'Marburg virus': ['Marburg virus'],\n",
    "    'SARS': ['Severe acute respiratory syndrome / SARS'],\n",
    "    'Ebola': ['Ebola', 'Ebola Ebola virus virion'],\n",
    "    'Rift Valley fever': ['Rift Valley fever'],\n",
    "    'Q-fever': ['Q-fever'],\n",
    "    'Hand, foot, and mouth disease': ['Hand, foot, and mouth disease'],\n",
    "    'Middle East respiratory syndrome': ['Middle East respiratory syndrome / MERS-CoV'],\n",
    "    'Chikungunya': ['Chikungunya'],\n",
    "    'Legionnaires\\' disease': ['Legionnaires\\' disease'],\n",
    "    'Hepatitis E': ['Primarily Hepatitis E, but also Hepatitis A'],\n",
    "    'Zika virus': ['Zika virus'],\n",
    "    'Japanese encephalitis': ['Japanese encephalitis'],\n",
    "    'New Delhi metallo-beta-lactamase-producing Carbapenem-resistant enterobacteriaceae': ['New Delhi metallo-beta-lactamase-producing Carbapenem-resistant']\n",
    "}\n",
    "\n",
    "\n",
    "# Function to map diseases to their corresponding category\n",
    "def map_disease_category(disease):\n",
    "    for category, diseases in disease_mapping.items():\n",
    "        if disease in diseases:\n",
    "            return category\n",
    "    return 'Other'  # Assign 'Other' for remaining diseases\n",
    "\n",
    "df['Disease Category'] = df['Disease'].apply(map_disease_category)\n",
    "df['Disease Category'].unique()"
   ],
   "metadata": {
    "collapsed": false
   }
  },
  {
   "cell_type": "code",
   "execution_count": 312,
   "outputs": [
    {
     "data": {
      "text/plain": "array(['Other', 'Other', 'Other', 'Other', 'Other', 'Other', 'Plague',\n       'Plague', 'Plague', 'Plague', 'Plague', 'Plague', 'Smallpox',\n       'Plague', 'Plague', 'Other', 'Typhus', 'Influenza', 'Smallpox',\n       'Other', 'Influenza', 'Smallpox', 'Plague', 'Other', 'Plague',\n       'Measles', 'Plague', 'Plague', 'Plague', 'Malaria', 'Plague',\n       'Other', 'Plague', 'Plague', 'Smallpox', 'Smallpox', 'Plague',\n       'Plague', 'Plague', 'Yellow fever', 'Plague', 'Plague', 'Plague',\n       'Plague', 'Plague', 'Plague', 'Smallpox', 'Plague', 'Plague',\n       'Other', 'Yellow fever', 'Yellow fever', 'Yellow fever',\n       'Smallpox', 'Smallpox', 'Plague', 'Measles', 'Plague', 'Smallpox',\n       'Yellow fever', 'Influenza', 'Smallpox', 'Diphtheria', 'Plague',\n       'Smallpox', 'Yellow fever', 'Plague', 'Measles', 'Smallpox',\n       'Yellow fever', 'Smallpox', 'Plague', 'Measles', 'Plague',\n       'Influenza', 'Smallpox', 'Dengue fever', 'Smallpox', 'Smallpox',\n       'Yellow fever', 'Yellow fever', 'Plague', 'Yellow fever', 'Typhus',\n       'Plague', 'Plague', 'Plague', 'Typhus', 'Cholera', 'Yellow fever',\n       'Yellow fever', 'Cholera', 'Smallpox', 'Malaria', 'Other',\n       'Plague', 'Plague', 'Smallpox', 'Yellow fever', 'Typhus',\n       'Yellow fever', 'Influenza', 'Other', 'Yellow fever', 'Cholera',\n       'Plague', 'Cholera', 'Cholera', 'Yellow fever', 'Plague',\n       'Yellow fever', 'Yellow fever', 'Smallpox', 'Influenza',\n       'Smallpox', 'Typhoid fever', 'Cholera', 'Measles', 'Yellow fever',\n       'Smallpox', 'Measles', 'Scarlet fever', 'Plague', 'Yellow fever',\n       'Yellow fever', 'Cholera', 'Smallpox', 'Other', 'Plague', 'Plague',\n       'African trypanosomiasis', 'Plague', 'Cholera', 'Plague', 'Plague',\n       'African trypanosomiasis', 'Kuru', 'Plague', 'Malaria', 'Plague',\n       'Encephalitis lethargica', 'Poliomyelitis', 'Influenza', 'Typhus',\n       'Plague', 'Smallpox', 'Typhoid fever', 'Psittacosis',\n       'Typhoid fever', 'Poliomyelitis', 'Yellow fever', 'Malaria',\n       'Relapsing fever', 'Cholera', 'Poliomyelitis', 'Influenza',\n       'Yellow fever', 'Cholera', 'Influenza', 'Poliomyelitis',\n       'Smallpox', 'Influenza', 'Cholera', 'Smallpox', 'Influenza',\n       'Anthrax', 'HIV/AIDS', 'Plague', 'Yellow fever', 'Yellow fever',\n       'Hepatitis', 'Cholera', 'Cholera', 'Bubonic and Pneumonic plague',\n       'Variant Creutzfeldt–Jakob disease', 'Meningitis',\n       'Nipah virus infection', 'Marburg virus', 'Dengue fever',\n       'Cholera', 'Cholera', 'SARS', 'Influenza', 'Dengue fever', 'Ebola',\n       'Marburg virus', 'Dengue fever', 'Cholera', 'Plague', 'Malaria',\n       'Dengue fever', 'Dengue fever', 'Dengue fever',\n       'Rift Valley fever', 'Ebola', 'Cholera', 'Cholera', 'Dengue fever',\n       'Ebola', 'Q-fever', 'Dengue fever', 'Dengue fever', 'Cholera',\n       'Hand, foot, and mouth disease', 'Cholera', 'Plague',\n       'Dengue fever', 'Cholera', 'Dengue fever', 'Hepatitis',\n       'Dengue fever', 'Meningitis', 'Influenza', 'Influenza', 'Cholera',\n       'Measles', 'Hand, foot, and mouth disease', 'Dengue fever',\n       'Yellow fever', 'Middle East respiratory syndrome', 'Dengue fever',\n       'Measles', 'Ebola', 'Chikungunya', 'Influenza', 'Plague',\n       \"Legionnaires' disease\", 'Hepatitis E', 'Influenza', 'Zika virus',\n       'Yellow fever', 'Cholera', 'Dengue fever', 'Japanese encephalitis',\n       'Dengue fever', 'Nipah virus infection', 'Ebola', 'Other',\n       'Measles', 'Measles', 'Measles', 'Measles', 'Measles',\n       'Dengue fever', 'Other', 'Other', 'Ebola', 'Dengue fever',\n       'Yellow fever', 'Other', 'Other', 'Other', 'Other'], dtype=object)"
     },
     "execution_count": 312,
     "metadata": {},
     "output_type": "execute_result"
    }
   ],
   "source": [
    "df['Disease Category'].values"
   ],
   "metadata": {
    "collapsed": false
   }
  },
  {
   "cell_type": "code",
   "execution_count": 313,
   "outputs": [
    {
     "data": {
      "text/plain": "array([ True, False])"
     },
     "execution_count": 313,
     "metadata": {},
     "output_type": "execute_result"
    }
   ],
   "source": [
    "df['Is death toll unknown'] = df['Death toll (estimate)'].apply(lambda x: True if (isinstance(x, str) and len(x) >= 7 and x[:7] == 'Unknown') else False)\n",
    "df['Is death toll unknown'].unique()"
   ],
   "metadata": {
    "collapsed": false
   }
  },
  {
   "cell_type": "code",
   "execution_count": 314,
   "outputs": [
    {
     "data": {
      "text/plain": "array(['Unknown', '75,000–100,000', '5–10 million', '310000',\n       '15–100 million', '25,000+', '2 million',\n       '75–200 million (30–60% of European population)', '10,000+',\n       '17000', 'Unknown, around 1% of those infected',\n       '5–8 million (40% of population)',\n       '5–15 million (80% of population)',\n       'Unknown (20–25% of native population)', '20,100+',\n       '2–2.5 million (50% of population)', '5,000–9,000', '3000',\n       '19,900+', '600,000–700,000', '40000',\n       'Unknown (estimated 30–90% of population)', '1 million', '13712',\n       '1000', '15,000–25,000', '10400', '200,000+', '500000', '1250000',\n       '24148', '100000', '11300', '750–1,000', '76000', '83000',\n       '3,100+', '520 (300 in Charleston, 220 in Philadelphia)', '500',\n       '1300', '18,000+ (36% of population)', '164000', '100,000+', '844',\n       '2200', '20000', '50000', '7,700–11,700', '40,000–50,000',\n       '730–940', '8000', '1080', '11,000+',\n       'Unknown (50–70% of native population)', '5,000+', '60,000+',\n       '29,000–55,000', '300000', '300,000+', '4500', '60000', '65000',\n       '700', '5,000–20,000', '19000', '2800', '150000', '17,000+',\n       '3498', '20,000+', '3400', '10000', '7970', '1 million+', '4737',\n       '616', '3,000 (2,000 in Norfolk, 1,000 in Portsmouth)',\n       '12–15 million (India and China)',\n       '3,400 (first wave; 900, second wave; 2,500)', '6000', '80000',\n       '600000', '748', '13,500–26,200', '4046', '13000', '298600',\n       '3164', '20788', '132', '800,000+', '119', '103',\n       '200,000–300,000', '2,700–3,000+', '4', '7130', '17–100 million',\n       '2–3 million', '30', '538', '100+', '43', '1627', '10277', '9000',\n       '1–4 million', '30000', '36,000[citation needed]', '5', '35',\n       '1027', '24', '15000', '700000', '105', '42 million (as of 2023',\n       '64', '5,600+', '145', '31–47', '8,410–9,432', '56', '178', '128',\n       '40+', '400+', '139', '774', '455', '658', '7', '227', '27',\n       '1,200+', '61', '17', '50+', '394', '187', '684', '10', '183',\n       '37', '95', '67', '407', '123', '3,322+', '115', '18+', '172',\n       '4293', '18', '49', '1+ (503 cases)', '1100',\n       'Lab confirmed deaths: 18,449 (reported to the WHO)',\n       'Estimated death toll: 284,000 (possible range 151,700–575,400)',\n       '10075', '4,500+', '170', '350+', '171',\n       '941 (as of 8\\xa0May\\xa02021', '8', '142', '11,323+', '292', '12',\n       '36', '2035', '53', '498 (377 in Angola, 121 in Congo)',\n       '3,981 (as of December 2020', '69', '1317', '440', '2280',\n       '31 (as of September 2019)', '7,018+', '2', '415', '15', '83',\n       '3930', '247 (as of May 2021)', '7–29.3 million (as of April 2023',\n       '55', '32', '296 (as of 31 December 2020)', '4332', '280', '77'],\n      dtype=object)"
     },
     "execution_count": 314,
     "metadata": {},
     "output_type": "execute_result"
    }
   ],
   "source": [
    "#get the Death toll (estimate) column. show all unique values\n",
    "df['Death toll (estimate)'].unique()\n"
   ],
   "metadata": {
    "collapsed": false
   }
  },
  {
   "cell_type": "code",
   "execution_count": 315,
   "outputs": [],
   "source": [
    "import pandas as pd\n",
    "\n",
    "def replace_with_mean_ignore(df, column_name):\n",
    "    # convert to numeric\n",
    "    df[column_name] = df[column_name].astype(int)\n",
    "    filtered_values = df[df[column_name] != 4000000][column_name]\n",
    "    mean = filtered_values.mean()\n",
    "    df.loc[df[column_name] == 4000000, column_name] = mean\n",
    "    df[column_name] = df[column_name].astype(int)\n",
    "    return df\n"
   ],
   "metadata": {
    "collapsed": false
   }
  },
  {
   "cell_type": "code",
   "execution_count": 316,
   "outputs": [],
   "source": [
    "import pandas as pd\n",
    "\n",
    "def convert_string_values_to_int(df, column_name):\n",
    "    # all values to string\n",
    "    df[column_name] = df[column_name].astype(str)\n",
    "    for i, value in enumerate(df[column_name]):\n",
    "        if value == \"Unknown\":\n",
    "            df.loc[i, column_name] = 4000000\n",
    "        elif value == \"75,000–100,000\":\n",
    "            df.loc[i, column_name] = 80000\n",
    "        elif value == \"5–10 million\":\n",
    "            df.loc[i, column_name] = 7500000\n",
    "        elif value == \"310000\":\n",
    "            df.loc[i, column_name] = 310000\n",
    "        elif value == \"15–100 million\":\n",
    "            df.loc[i, column_name] = 58000000\n",
    "        elif value == \"25,000+\":\n",
    "            df.loc[i, column_name] = 25000\n",
    "        elif value == \"2 million\":\n",
    "            df.loc[i, column_name] = 2000000\n",
    "        elif value == \"75–200 million (30–60% of European population)\":\n",
    "            df.loc[i, column_name] = 110000000\n",
    "        elif value == \"10,000+\":\n",
    "            df.loc[i, column_name] = 10000\n",
    "        elif value == \"17000\":\n",
    "            df.loc[i, column_name] = 17000\n",
    "        elif \"Unknown\" in value or \"Estimated\" in value:\n",
    "            df.loc[i, column_name] = 4000000\n",
    "        elif \"around\" in value:\n",
    "            df.loc[i, column_name] = int(value.split(\" \")[-1].replace(\",\", \"\"))\n",
    "        elif \"[\" in value:\n",
    "            df.loc[i, column_name] = int(value.split(\"[\")[0].replace(\",\", \"\"))\n",
    "        elif \"million\" in value:\n",
    "            if \"–\" in value:\n",
    "                df.loc[i, column_name] = int(float(value.split(\"–\")[0].replace(\",\", \"\")) * 1000000)\n",
    "            else:\n",
    "                df.loc[i, column_name] = int(float(value.split(\" \")[0].replace(\",\", \"\")) * 1000000)\n",
    "        elif \"thousand\" in value:\n",
    "            df.loc[i, column_name] = int(float(value.split(\" \")[0].replace(\",\", \"\")) * 1000)\n",
    "        elif \"+\" in value:\n",
    "            if \"–\" in value:\n",
    "                 df.loc[i, column_name] = int(value.split(\"–\")[0].replace(\",\", \"\"))\n",
    "            else:\n",
    "                df.loc[i, column_name] = int(value.split(\"+\")[0].replace(\",\", \"\"))\n",
    "        elif \"–\" in value:\n",
    "            values = value.split(\"–\")\n",
    "            df.loc[i, column_name] = int((float(values[0].replace(\",\", \"\")) + float(values[1].replace(\",\", \"\"))) / 2)\n",
    "        elif \"(\" in value:\n",
    "            if \":\" in value:\n",
    "                value = value.split(\":\")[1]\n",
    "                df.loc[i, column_name] = int(value.split(\"(\")[0].replace(\",\", \"\"))\n",
    "            else:\n",
    "                df.loc[i, column_name] = int(value.split(\"(\")[0].replace(\",\", \"\"))\n",
    "        else:\n",
    "            try:\n",
    "                df.loc[i, column_name] = int(value)\n",
    "            except ValueError:\n",
    "                # Handle any other cases here\n",
    "                pass\n",
    "    return df\n"
   ],
   "metadata": {
    "collapsed": false
   }
  },
  {
   "cell_type": "code",
   "execution_count": 317,
   "outputs": [
    {
     "data": {
      "text/plain": "array([4000000, 80000, 7500000, 310000, 58000000, 25000, 2000000,\n       110000000, 10000, 17000, 5000000, 20100, 7000, 3000, 19900, 650000,\n       40000, 1000000, 13712, 1000, 20000, 10400, 200000, 500000, 1250000,\n       24148, 100000, 11300, 875, 76000, 83000, 3100, 520, 500, 1300,\n       18000, 164000, 844, 2200, 50000, 9700, 45000, 835, 8000, 1080,\n       11000, 5000, 60000, 42000, 300000, 4500, 65000, 700, 12500, 19000,\n       2800, 150000, 3498, 3400, 7970, 4737, 616, 12000000, 6000, 600000,\n       748, 19850, 4046, 13000, 298600, 3164, 20788, 132, 800000, 119,\n       103, 250000, 2700, 4, 7130, 17000000, 30, 538, 100, 43, 1627,\n       10277, 9000, 30000, 36000, 5, 35, 1027, 24, 15000, 700000, 105,\n       42000000, 64, 5600, 145, 39, 8921, 56, 178, 128, 40, 400, 139, 774,\n       455, 658, 7, 227, 27, 1200, 61, 17, 50, 394, 187, 684, 10, 183, 37,\n       95, 67, 407, 123, 3322, 115, 18, 172, 4293, 49, 1, 1100, 18449,\n       10075, 170, 350, 171, 941, 8, 142, 11323, 292, 12, 36, 2035, 53,\n       498, 3981, 69, 1317, 440, 2280, 31, 7018, 2, 415, 15, 83, 3930,\n       247, 7000000, 55, 32, 296, 4332, 280, 77], dtype=object)"
     },
     "execution_count": 317,
     "metadata": {},
     "output_type": "execute_result"
    }
   ],
   "source": [
    "\n",
    "df = convert_string_values_to_int(df, 'Death toll (estimate)')\n",
    "df['Death toll (estimate)'].unique()"
   ],
   "metadata": {
    "collapsed": false
   }
  },
  {
   "cell_type": "code",
   "execution_count": 318,
   "outputs": [
    {
     "data": {
      "text/plain": "array([  1320837,     80000,   7500000,    310000,  58000000,     25000,\n         2000000, 110000000,     10000,     17000,   5000000,     20100,\n            7000,      3000,     19900,    650000,     40000,   1000000,\n           13712,      1000,     20000,     10400,    200000,    500000,\n         1250000,     24148,    100000,     11300,       875,     76000,\n           83000,      3100,       520,       500,      1300,     18000,\n          164000,       844,      2200,     50000,      9700,     45000,\n             835,      8000,      1080,     11000,      5000,     60000,\n           42000,    300000,      4500,     65000,       700,     12500,\n           19000,      2800,    150000,      3498,      3400,      7970,\n            4737,       616,  12000000,      6000,    600000,       748,\n           19850,      4046,     13000,    298600,      3164,     20788,\n             132,    800000,       119,       103,    250000,      2700,\n               4,      7130,  17000000,        30,       538,       100,\n              43,      1627,     10277,      9000,     30000,     36000,\n               5,        35,      1027,        24,     15000,    700000,\n             105,  42000000,        64,      5600,       145,        39,\n            8921,        56,       178,       128,        40,       400,\n             139,       774,       455,       658,         7,       227,\n              27,      1200,        61,        17,        50,       394,\n             187,       684,        10,       183,        37,        95,\n              67,       407,       123,      3322,       115,        18,\n             172,      4293,        49,         1,      1100,     18449,\n           10075,       170,       350,       171,       941,         8,\n             142,     11323,       292,        12,        36,      2035,\n              53,       498,      3981,        69,      1317,       440,\n            2280,        31,      7018,         2,       415,        15,\n              83,      3930,       247,   7000000,        55,        32,\n             296,      4332,       280,        77])"
     },
     "execution_count": 318,
     "metadata": {},
     "output_type": "execute_result"
    }
   ],
   "source": [
    "df = replace_with_mean_ignore(df, 'Death toll (estimate)')\n",
    "df['Death toll (estimate)'].unique()"
   ],
   "metadata": {
    "collapsed": false
   }
  },
  {
   "cell_type": "code",
   "execution_count": 319,
   "outputs": [
    {
     "data": {
      "text/plain": "1320837.418972332"
     },
     "execution_count": 319,
     "metadata": {},
     "output_type": "execute_result"
    }
   ],
   "source": [
    "df['Death toll (estimate)'].values.mean()"
   ],
   "metadata": {
    "collapsed": false
   }
  },
  {
   "cell_type": "code",
   "execution_count": 320,
   "outputs": [
    {
     "data": {
      "text/plain": "array([  1320837,     80000,   1320837,   7500000,   1320837,    310000,\n        58000000,   1320837,     25000,     25000,   1320837,   1320837,\n         2000000,   1320837, 110000000,     10000,     17000,   1320837,\n         5000000,   5000000,   1320837,   1320837,     20100,   2000000,\n            7000,   1320837,      3000,     19900,    650000,   1320837,\n           40000,   1320837,   1000000,     13712,      1000,     20000,\n           10400,    200000,    500000,   1320837,   1250000,     24148,\n          100000,     40000,     11300,   1320837,       875,     76000,\n           83000,   1320837,      3100,       520,       500,      1300,\n           18000,    164000,   1320837,    100000,       844,      2200,\n         1320837,   1320837,     20000,     50000,      9700,     20000,\n           45000,   1320837,       835,      8000,   1320837,     50000,\n            1080,   2000000,   1320837,     11000,   1320837,   1320837,\n         1320837,      5000,     60000,   1320837,     42000,    300000,\n          300000,      4500,     60000,     65000,    100000,       700,\n           12500,    100000,     19000,      2800,    150000,   1320837,\n         1320837,     17000,      3498,     20000,      3400,   1320837,\n           10000,      7970,   1000000,   1320837,      4737,       616,\n            3000,  12000000,      3400,      6000,   1320837,   1320837,\n           20000,     80000,    600000,       748,     19850,    500000,\n           40000,      8000,     20000,      4046,     13000,    298600,\n            3164,   1000000,     20000,     20788,    500000,       132,\n          800000,       119,       103,    250000,      2700,         4,\n           80000,     60000,    500000,      7130,  17000000,   2000000,\n              30,       500,       538,       100,        43,   1320837,\n            1627,   1320837,   1320837,     10277,      9000,   1000000,\n           30000,     36000,   1000000,         5,        35,      1027,\n              24,     15000,    700000,       105,  42000000,        64,\n            5600,       145,        39,      8921,      8000,        56,\n             178,     10000,       105,       128,        40,       400,\n             139,       774,       455,       658,         7,       227,\n              27,      1200,        61,        17,        50,        50,\n            1000,       394,       187,       684,        10,       183,\n              37,        95,        67,       407,       123,      3322,\n             115,        18,       172,      4293,        18,        49,\n               1,      1100,     18449,   1320837,     10075,      4500,\n             170,       350,       171,       941,         8,       142,\n           11323,       183,       616,       292,        12,        36,\n            2035,        53,       498,      3981,        69,      1317,\n             440,        17,      2280,        31,      7018,         2,\n             415,        15,        83,      3930,       247,   7000000,\n              55,        32,       296,      4332,        18,       280,\n              77])"
     },
     "execution_count": 320,
     "metadata": {},
     "output_type": "execute_result"
    }
   ],
   "source": [
    "df['Death toll (estimate)'].values"
   ],
   "metadata": {
    "collapsed": false
   }
  },
  {
   "cell_type": "code",
   "execution_count": 321,
   "outputs": [
    {
     "data": {
      "text/plain": "    Unnamed: 0                                              Event   \n0            0                          1350 BC plague of Megiddo  \\\n1            1                                   Plague of Athens   \n2            2                                    412 BC epidemic   \n3            3                                    Antonine Plague   \n4            4                                     Jian'an Plague   \n5            5                                  Plague of Cyprian   \n6            6  Plague of Justinian (beginning of first plague...   \n7            7  Roman Plague of 590 (part of first plague pand...   \n8            8   Plague of Sheroe (part of First plague pandemic)   \n9            9    Plague of Amwas (part of first plague pandemic)   \n10          10      Plague of 664 (part of first plague pandemic)   \n11          11  Plague of 698–701 (part of first plague pandemic)   \n12          12                 735–737 Japanese smallpox epidemic   \n13          13  Plague of 746–747 (part of first plague pandemic)   \n14          14  Black Death (start of the second plague pandemic)   \n15          15             Sweating sickness (multiple outbreaks)   \n16          16                         1489 Spain typhus epidemic   \n17          17                            1510 influenza pandemic   \n18          18                      1520 Mexico smallpox epidemic   \n19          19                   Cocoliztli epidemic of 1545–1548   \n20          20                            1557 influenza pandemic   \n21          21                       1561 Chile smallpox epidemic   \n22          22  1563 London plague (part of the second plague ...   \n23          23                        Cocoliztli epidemic of 1576   \n24          24  1582 Tenerife plague epidemic (part of the sec...   \n25          25           1592–1596 Seneca nation measles epidemic   \n26          26  1592–1593 Malta plague epidemic (part of the s...   \n27          27  1592–1593 London plague (part of the second pl...   \n28          28  1596–1602 Spain plague epidemic (part of the s...   \n29          29           1600–1650 South America malaria epidemic   \n30          30  1603 London plague epidemic (part of the secon...   \n31          31               1616 New England infections epidemic   \n32          32  1629–1631 Italian plague (part of the second p...   \n33          33  1632–1635 Augsburg plague epidemic (part of th...   \n34          34                    Massachusetts smallpox epidemic   \n35          35                  1634–1640 Wyandot people epidemic   \n36          36  1637 London plague epidemic (part of the secon...   \n37          37  Great Plague in the late Ming dynasty (part of...   \n38          38  Great Plague of Seville (part of the second pl...   \n39          39         1648 Central America yellow fever epidemic   \n40          40  Naples Plague (part of the second plague pande...   \n41          41  1663–1664 Amsterdam plague epidemic (part of t...   \n42          42  Great Plague of London (part of the second pla...   \n43          43  1668 France plague (part of the second plague ...   \n44          44  1675–1676 Malta plague epidemic (part of the s...   \n45          45  1676–1685 Spain plague (part of the second pla...   \n46          46                 1677–1678 Boston smallpox epidemic   \n47          47  Great Plague of Vienna (part of the second pla...   \n48          48  1681 Prague plague epidemic (part of the secon...   \n49          49               1687 South Africa influenza outbreak   \n\n                            Date   \n0                        1350 BC  \\\n1                     430–426 BC   \n2                         412 BC   \n3   165–180 (possibly up to 190)   \n4                            217   \n5                        249–262   \n6                        541–549   \n7                            590   \n8                        627–628   \n9                        638–639   \n10                       664–689   \n11                       698–701   \n12                       735–737   \n13                       746–747   \n14                     1346–1353   \n15                     1485–1551   \n16                          1489   \n17                          1510   \n18                     1519–1520   \n19                     1545–1548   \n20                     1557–1559   \n21                     1561–1562   \n22                     1563–1564   \n23                     1576–1580   \n24                     1582–1583   \n25                     1592–1596   \n26                     1592–1593   \n27                     1592–1593   \n28                     1596–1602   \n29                     1600–1650   \n30                          1603   \n31                     1616–1620   \n32                     1629–1631   \n33                     1632–1635   \n34                     1633–1634   \n35                     1634–1640   \n36                     1636–1637   \n37                     1633–1644   \n38                     1647–1652   \n39                          1648   \n40                     1656–1658   \n41                     1663–1664   \n42                     1665–1666   \n43                          1668   \n44                     1675–1676   \n45                     1676–1685   \n46                     1677–1678   \n47                          1679   \n48                          1681   \n49                          1687   \n\n                                             Location   \n0                             Megiddo, land of Canaan  \\\n1                      Greece, Libya, Egypt, Ethiopia   \n2            Greece (Northern Greece, Roman Republic)   \n3                                        Roman Empire   \n4                                         Han Dynasty   \n5                                              Europe   \n6                                Europe and West Asia   \n7                              Rome, Byzantine Empire   \n8                                       Bilad al-Sham   \n9                 Byzantine Empire, West Asia, Africa   \n10                                      British Isles   \n11    Byzantine Empire, West Asia, Syria, Mesopotamia   \n12                                              Japan   \n13                Byzantine Empire, West Asia, Africa   \n14                           Eurasia and North Africa   \n15     Britain (England) and later continental Europe   \n16                                              Spain   \n17                         Asia, North Africa, Europe   \n18                                             Mexico   \n19                                             Mexico   \n20                 Asia, Africa, Europe, and Americas   \n21                                              Chile   \n22                                    London, England   \n23                                             Mexico   \n24                                    Tenerife, Spain   \n25                       Seneca nation, North America   \n26                                              Malta   \n27                                    London, England   \n28                                              Spain   \n29                                      South America   \n30                                    London, England   \n31  Southern New England, British North America, e...   \n32                                              Italy   \n33                                  Augsburg, Germany   \n34        Massachusetts Bay Colony, Thirteen Colonies   \n35                      Wyandot people, North America   \n36                    London and Westminster, England   \n37                                              China   \n38                                              Spain   \n39                                    Central America   \n40                                              Italy   \n41                             Amsterdam, Netherlands   \n42                                            England   \n43                                             France   \n44                                              Malta   \n45                                              Spain   \n46    Massachusetts Bay Colony, British North America   \n47                                    Vienna, Austria   \n48                              Prague, Czech Kingdom   \n49                                       South Africa   \n\n                                              Disease  Death toll (estimate)   \n0   Amarna letters EA 244, Biridiya, mayor of Megi...                1320837  \\\n1   Unknown, possibly typhus, typhoid fever or vir...                  80000   \n2                         Unknown, possibly influenza                1320837   \n3                          Unknown, possibly smallpox                7500000   \n4   Unknown, possibly typhoid fever or viral hemor...                1320837   \n5                          Unknown, possibly smallpox                 310000   \n6                                      Bubonic plague               58000000   \n7                                      Bubonic plague                1320837   \n8                                      Bubonic plague                  25000   \n9                                      Bubonic plague                  25000   \n10                                     Bubonic plague                1320837   \n11                                     Bubonic plague                1320837   \n12                                           Smallpox                2000000   \n13                                     Bubonic plague                1320837   \n14           Bubonic plague Yersinia pestis bacterium              110000000   \n15  Unknown, possibly an unknown species of hantav...                  10000   \n16                                             Typhus                  17000   \n17                                          Influenza                1320837   \n18                                           Smallpox                5000000   \n19                       Possibly Salmonella enterica                5000000   \n20                                          Influenza                1320837   \n21                                           Smallpox                1320837   \n22                                     Bubonic plague                  20100   \n23                       Possibly Salmonella enterica                2000000   \n24                                     Bubonic plague                   7000   \n25                                            Measles                1320837   \n26                                     Bubonic plague                   3000   \n27                                     Bubonic plague                  19900   \n28                                     Bubonic plague                 650000   \n29                                            Malaria                1320837   \n30                                     Bubonic plague                  40000   \n31  Unknown, possibly leptospirosis with Weil synd...                1320837   \n32                                     Bubonic plague                1000000   \n33                                     Bubonic plague                  13712   \n34                                           Smallpox                   1000   \n35                             Smallpox and Influenza                  20000   \n36                                     Bubonic plague                  10400   \n37                                     Bubonic plague                 200000   \n38                                     Bubonic plague                 500000   \n39                                       Yellow fever                1320837   \n40                                     Bubonic plague                1250000   \n41                                     Bubonic plague                  24148   \n42                                     Bubonic plague                 100000   \n43                                     Bubonic plague                  40000   \n44                                     Bubonic plague                  11300   \n45                                     Bubonic plague                1320837   \n46                                           Smallpox                    875   \n47                                     Bubonic plague                  76000   \n48                                     Bubonic plague                  83000   \n49                        Unknown, possibly influenza                1320837   \n\n                 Ref.  Is death toll unknown BC/AD Disease Category  \n0                [26]                      1    BC            Other  \n1    [27][28][29][30]                      0    BC            Other  \n2                [31]                      1    BC            Other  \n3            [32][33]                      0    AD            Other  \n4            [34][35]                      1    AD            Other  \n5            [36][37]                      0    AD            Other  \n6         [8][38][39]                      0    AD           Plague  \n7                [40]                      1    AD           Plague  \n8                 NaN                      0    AD           Plague  \n9                [41]                      0    AD           Plague  \n10               [42]                      1    AD           Plague  \n11               [43]                      1    AD           Plague  \n12           [13][44]                      0    AD         Smallpox  \n13               [41]                      1    AD           Plague  \n14               [45]                      0    AD           Plague  \n15               [46]                      0    AD            Other  \n16               [47]                      0    AD           Typhus  \n17               [48]                      1    AD        Influenza  \n18               [10]                      0    AD         Smallpox  \n19   [49][50][51][52]                      0    AD            Other  \n20                NaN                      1    AD        Influenza  \n21               [53]                      1    AD         Smallpox  \n22               [54]                      0    AD           Plague  \n23   [49][50][51][52]                      0    AD            Other  \n24               [55]                      0    AD           Plague  \n25               [56]                      1    AD          Measles  \n26               [57]                      0    AD           Plague  \n27               [58]                      0    AD           Plague  \n28               [59]                      0    AD           Plague  \n29  [citation needed]                      1    AD          Malaria  \n30       [60][61][62]                      0    AD           Plague  \n31           [63][64]                      1    AD            Other  \n32               [65]                      0    AD           Plague  \n33               [66]                      0    AD           Plague  \n34               [67]                      0    AD         Smallpox  \n35               [68]                      0    AD         Smallpox  \n36               [69]                      0    AD           Plague  \n37           [70][71]                      0    AD           Plague  \n38               [72]                      0    AD           Plague  \n39               [73]                      1    AD     Yellow fever  \n40               [74]                      0    AD           Plague  \n41               [75]                      0    AD           Plague  \n42           [76][77]                      0    AD           Plague  \n43               [78]                      0    AD           Plague  \n44               [79]                      0    AD           Plague  \n45               [80]                      1    AD           Plague  \n46               [81]                      0    AD         Smallpox  \n47               [82]                      0    AD           Plague  \n48               [83]                      0    AD           Plague  \n49               [84]                      1    AD            Other  ",
      "text/html": "<div>\n<style scoped>\n    .dataframe tbody tr th:only-of-type {\n        vertical-align: middle;\n    }\n\n    .dataframe tbody tr th {\n        vertical-align: top;\n    }\n\n    .dataframe thead th {\n        text-align: right;\n    }\n</style>\n<table border=\"1\" class=\"dataframe\">\n  <thead>\n    <tr style=\"text-align: right;\">\n      <th></th>\n      <th>Unnamed: 0</th>\n      <th>Event</th>\n      <th>Date</th>\n      <th>Location</th>\n      <th>Disease</th>\n      <th>Death toll (estimate)</th>\n      <th>Ref.</th>\n      <th>Is death toll unknown</th>\n      <th>BC/AD</th>\n      <th>Disease Category</th>\n    </tr>\n  </thead>\n  <tbody>\n    <tr>\n      <th>0</th>\n      <td>0</td>\n      <td>1350 BC plague of Megiddo</td>\n      <td>1350 BC</td>\n      <td>Megiddo, land of Canaan</td>\n      <td>Amarna letters EA 244, Biridiya, mayor of Megi...</td>\n      <td>1320837</td>\n      <td>[26]</td>\n      <td>1</td>\n      <td>BC</td>\n      <td>Other</td>\n    </tr>\n    <tr>\n      <th>1</th>\n      <td>1</td>\n      <td>Plague of Athens</td>\n      <td>430–426 BC</td>\n      <td>Greece, Libya, Egypt, Ethiopia</td>\n      <td>Unknown, possibly typhus, typhoid fever or vir...</td>\n      <td>80000</td>\n      <td>[27][28][29][30]</td>\n      <td>0</td>\n      <td>BC</td>\n      <td>Other</td>\n    </tr>\n    <tr>\n      <th>2</th>\n      <td>2</td>\n      <td>412 BC epidemic</td>\n      <td>412 BC</td>\n      <td>Greece (Northern Greece, Roman Republic)</td>\n      <td>Unknown, possibly influenza</td>\n      <td>1320837</td>\n      <td>[31]</td>\n      <td>1</td>\n      <td>BC</td>\n      <td>Other</td>\n    </tr>\n    <tr>\n      <th>3</th>\n      <td>3</td>\n      <td>Antonine Plague</td>\n      <td>165–180 (possibly up to 190)</td>\n      <td>Roman Empire</td>\n      <td>Unknown, possibly smallpox</td>\n      <td>7500000</td>\n      <td>[32][33]</td>\n      <td>0</td>\n      <td>AD</td>\n      <td>Other</td>\n    </tr>\n    <tr>\n      <th>4</th>\n      <td>4</td>\n      <td>Jian'an Plague</td>\n      <td>217</td>\n      <td>Han Dynasty</td>\n      <td>Unknown, possibly typhoid fever or viral hemor...</td>\n      <td>1320837</td>\n      <td>[34][35]</td>\n      <td>1</td>\n      <td>AD</td>\n      <td>Other</td>\n    </tr>\n    <tr>\n      <th>5</th>\n      <td>5</td>\n      <td>Plague of Cyprian</td>\n      <td>249–262</td>\n      <td>Europe</td>\n      <td>Unknown, possibly smallpox</td>\n      <td>310000</td>\n      <td>[36][37]</td>\n      <td>0</td>\n      <td>AD</td>\n      <td>Other</td>\n    </tr>\n    <tr>\n      <th>6</th>\n      <td>6</td>\n      <td>Plague of Justinian (beginning of first plague...</td>\n      <td>541–549</td>\n      <td>Europe and West Asia</td>\n      <td>Bubonic plague</td>\n      <td>58000000</td>\n      <td>[8][38][39]</td>\n      <td>0</td>\n      <td>AD</td>\n      <td>Plague</td>\n    </tr>\n    <tr>\n      <th>7</th>\n      <td>7</td>\n      <td>Roman Plague of 590 (part of first plague pand...</td>\n      <td>590</td>\n      <td>Rome, Byzantine Empire</td>\n      <td>Bubonic plague</td>\n      <td>1320837</td>\n      <td>[40]</td>\n      <td>1</td>\n      <td>AD</td>\n      <td>Plague</td>\n    </tr>\n    <tr>\n      <th>8</th>\n      <td>8</td>\n      <td>Plague of Sheroe (part of First plague pandemic)</td>\n      <td>627–628</td>\n      <td>Bilad al-Sham</td>\n      <td>Bubonic plague</td>\n      <td>25000</td>\n      <td>NaN</td>\n      <td>0</td>\n      <td>AD</td>\n      <td>Plague</td>\n    </tr>\n    <tr>\n      <th>9</th>\n      <td>9</td>\n      <td>Plague of Amwas (part of first plague pandemic)</td>\n      <td>638–639</td>\n      <td>Byzantine Empire, West Asia, Africa</td>\n      <td>Bubonic plague</td>\n      <td>25000</td>\n      <td>[41]</td>\n      <td>0</td>\n      <td>AD</td>\n      <td>Plague</td>\n    </tr>\n    <tr>\n      <th>10</th>\n      <td>10</td>\n      <td>Plague of 664 (part of first plague pandemic)</td>\n      <td>664–689</td>\n      <td>British Isles</td>\n      <td>Bubonic plague</td>\n      <td>1320837</td>\n      <td>[42]</td>\n      <td>1</td>\n      <td>AD</td>\n      <td>Plague</td>\n    </tr>\n    <tr>\n      <th>11</th>\n      <td>11</td>\n      <td>Plague of 698–701 (part of first plague pandemic)</td>\n      <td>698–701</td>\n      <td>Byzantine Empire, West Asia, Syria, Mesopotamia</td>\n      <td>Bubonic plague</td>\n      <td>1320837</td>\n      <td>[43]</td>\n      <td>1</td>\n      <td>AD</td>\n      <td>Plague</td>\n    </tr>\n    <tr>\n      <th>12</th>\n      <td>12</td>\n      <td>735–737 Japanese smallpox epidemic</td>\n      <td>735–737</td>\n      <td>Japan</td>\n      <td>Smallpox</td>\n      <td>2000000</td>\n      <td>[13][44]</td>\n      <td>0</td>\n      <td>AD</td>\n      <td>Smallpox</td>\n    </tr>\n    <tr>\n      <th>13</th>\n      <td>13</td>\n      <td>Plague of 746–747 (part of first plague pandemic)</td>\n      <td>746–747</td>\n      <td>Byzantine Empire, West Asia, Africa</td>\n      <td>Bubonic plague</td>\n      <td>1320837</td>\n      <td>[41]</td>\n      <td>1</td>\n      <td>AD</td>\n      <td>Plague</td>\n    </tr>\n    <tr>\n      <th>14</th>\n      <td>14</td>\n      <td>Black Death (start of the second plague pandemic)</td>\n      <td>1346–1353</td>\n      <td>Eurasia and North Africa</td>\n      <td>Bubonic plague Yersinia pestis bacterium</td>\n      <td>110000000</td>\n      <td>[45]</td>\n      <td>0</td>\n      <td>AD</td>\n      <td>Plague</td>\n    </tr>\n    <tr>\n      <th>15</th>\n      <td>15</td>\n      <td>Sweating sickness (multiple outbreaks)</td>\n      <td>1485–1551</td>\n      <td>Britain (England) and later continental Europe</td>\n      <td>Unknown, possibly an unknown species of hantav...</td>\n      <td>10000</td>\n      <td>[46]</td>\n      <td>0</td>\n      <td>AD</td>\n      <td>Other</td>\n    </tr>\n    <tr>\n      <th>16</th>\n      <td>16</td>\n      <td>1489 Spain typhus epidemic</td>\n      <td>1489</td>\n      <td>Spain</td>\n      <td>Typhus</td>\n      <td>17000</td>\n      <td>[47]</td>\n      <td>0</td>\n      <td>AD</td>\n      <td>Typhus</td>\n    </tr>\n    <tr>\n      <th>17</th>\n      <td>17</td>\n      <td>1510 influenza pandemic</td>\n      <td>1510</td>\n      <td>Asia, North Africa, Europe</td>\n      <td>Influenza</td>\n      <td>1320837</td>\n      <td>[48]</td>\n      <td>1</td>\n      <td>AD</td>\n      <td>Influenza</td>\n    </tr>\n    <tr>\n      <th>18</th>\n      <td>18</td>\n      <td>1520 Mexico smallpox epidemic</td>\n      <td>1519–1520</td>\n      <td>Mexico</td>\n      <td>Smallpox</td>\n      <td>5000000</td>\n      <td>[10]</td>\n      <td>0</td>\n      <td>AD</td>\n      <td>Smallpox</td>\n    </tr>\n    <tr>\n      <th>19</th>\n      <td>19</td>\n      <td>Cocoliztli epidemic of 1545–1548</td>\n      <td>1545–1548</td>\n      <td>Mexico</td>\n      <td>Possibly Salmonella enterica</td>\n      <td>5000000</td>\n      <td>[49][50][51][52]</td>\n      <td>0</td>\n      <td>AD</td>\n      <td>Other</td>\n    </tr>\n    <tr>\n      <th>20</th>\n      <td>20</td>\n      <td>1557 influenza pandemic</td>\n      <td>1557–1559</td>\n      <td>Asia, Africa, Europe, and Americas</td>\n      <td>Influenza</td>\n      <td>1320837</td>\n      <td>NaN</td>\n      <td>1</td>\n      <td>AD</td>\n      <td>Influenza</td>\n    </tr>\n    <tr>\n      <th>21</th>\n      <td>21</td>\n      <td>1561 Chile smallpox epidemic</td>\n      <td>1561–1562</td>\n      <td>Chile</td>\n      <td>Smallpox</td>\n      <td>1320837</td>\n      <td>[53]</td>\n      <td>1</td>\n      <td>AD</td>\n      <td>Smallpox</td>\n    </tr>\n    <tr>\n      <th>22</th>\n      <td>22</td>\n      <td>1563 London plague (part of the second plague ...</td>\n      <td>1563–1564</td>\n      <td>London, England</td>\n      <td>Bubonic plague</td>\n      <td>20100</td>\n      <td>[54]</td>\n      <td>0</td>\n      <td>AD</td>\n      <td>Plague</td>\n    </tr>\n    <tr>\n      <th>23</th>\n      <td>23</td>\n      <td>Cocoliztli epidemic of 1576</td>\n      <td>1576–1580</td>\n      <td>Mexico</td>\n      <td>Possibly Salmonella enterica</td>\n      <td>2000000</td>\n      <td>[49][50][51][52]</td>\n      <td>0</td>\n      <td>AD</td>\n      <td>Other</td>\n    </tr>\n    <tr>\n      <th>24</th>\n      <td>24</td>\n      <td>1582 Tenerife plague epidemic (part of the sec...</td>\n      <td>1582–1583</td>\n      <td>Tenerife, Spain</td>\n      <td>Bubonic plague</td>\n      <td>7000</td>\n      <td>[55]</td>\n      <td>0</td>\n      <td>AD</td>\n      <td>Plague</td>\n    </tr>\n    <tr>\n      <th>25</th>\n      <td>25</td>\n      <td>1592–1596 Seneca nation measles epidemic</td>\n      <td>1592–1596</td>\n      <td>Seneca nation, North America</td>\n      <td>Measles</td>\n      <td>1320837</td>\n      <td>[56]</td>\n      <td>1</td>\n      <td>AD</td>\n      <td>Measles</td>\n    </tr>\n    <tr>\n      <th>26</th>\n      <td>26</td>\n      <td>1592–1593 Malta plague epidemic (part of the s...</td>\n      <td>1592–1593</td>\n      <td>Malta</td>\n      <td>Bubonic plague</td>\n      <td>3000</td>\n      <td>[57]</td>\n      <td>0</td>\n      <td>AD</td>\n      <td>Plague</td>\n    </tr>\n    <tr>\n      <th>27</th>\n      <td>27</td>\n      <td>1592–1593 London plague (part of the second pl...</td>\n      <td>1592–1593</td>\n      <td>London, England</td>\n      <td>Bubonic plague</td>\n      <td>19900</td>\n      <td>[58]</td>\n      <td>0</td>\n      <td>AD</td>\n      <td>Plague</td>\n    </tr>\n    <tr>\n      <th>28</th>\n      <td>28</td>\n      <td>1596–1602 Spain plague epidemic (part of the s...</td>\n      <td>1596–1602</td>\n      <td>Spain</td>\n      <td>Bubonic plague</td>\n      <td>650000</td>\n      <td>[59]</td>\n      <td>0</td>\n      <td>AD</td>\n      <td>Plague</td>\n    </tr>\n    <tr>\n      <th>29</th>\n      <td>29</td>\n      <td>1600–1650 South America malaria epidemic</td>\n      <td>1600–1650</td>\n      <td>South America</td>\n      <td>Malaria</td>\n      <td>1320837</td>\n      <td>[citation needed]</td>\n      <td>1</td>\n      <td>AD</td>\n      <td>Malaria</td>\n    </tr>\n    <tr>\n      <th>30</th>\n      <td>30</td>\n      <td>1603 London plague epidemic (part of the secon...</td>\n      <td>1603</td>\n      <td>London, England</td>\n      <td>Bubonic plague</td>\n      <td>40000</td>\n      <td>[60][61][62]</td>\n      <td>0</td>\n      <td>AD</td>\n      <td>Plague</td>\n    </tr>\n    <tr>\n      <th>31</th>\n      <td>31</td>\n      <td>1616 New England infections epidemic</td>\n      <td>1616–1620</td>\n      <td>Southern New England, British North America, e...</td>\n      <td>Unknown, possibly leptospirosis with Weil synd...</td>\n      <td>1320837</td>\n      <td>[63][64]</td>\n      <td>1</td>\n      <td>AD</td>\n      <td>Other</td>\n    </tr>\n    <tr>\n      <th>32</th>\n      <td>32</td>\n      <td>1629–1631 Italian plague (part of the second p...</td>\n      <td>1629–1631</td>\n      <td>Italy</td>\n      <td>Bubonic plague</td>\n      <td>1000000</td>\n      <td>[65]</td>\n      <td>0</td>\n      <td>AD</td>\n      <td>Plague</td>\n    </tr>\n    <tr>\n      <th>33</th>\n      <td>33</td>\n      <td>1632–1635 Augsburg plague epidemic (part of th...</td>\n      <td>1632–1635</td>\n      <td>Augsburg, Germany</td>\n      <td>Bubonic plague</td>\n      <td>13712</td>\n      <td>[66]</td>\n      <td>0</td>\n      <td>AD</td>\n      <td>Plague</td>\n    </tr>\n    <tr>\n      <th>34</th>\n      <td>34</td>\n      <td>Massachusetts smallpox epidemic</td>\n      <td>1633–1634</td>\n      <td>Massachusetts Bay Colony, Thirteen Colonies</td>\n      <td>Smallpox</td>\n      <td>1000</td>\n      <td>[67]</td>\n      <td>0</td>\n      <td>AD</td>\n      <td>Smallpox</td>\n    </tr>\n    <tr>\n      <th>35</th>\n      <td>35</td>\n      <td>1634–1640 Wyandot people epidemic</td>\n      <td>1634–1640</td>\n      <td>Wyandot people, North America</td>\n      <td>Smallpox and Influenza</td>\n      <td>20000</td>\n      <td>[68]</td>\n      <td>0</td>\n      <td>AD</td>\n      <td>Smallpox</td>\n    </tr>\n    <tr>\n      <th>36</th>\n      <td>36</td>\n      <td>1637 London plague epidemic (part of the secon...</td>\n      <td>1636–1637</td>\n      <td>London and Westminster, England</td>\n      <td>Bubonic plague</td>\n      <td>10400</td>\n      <td>[69]</td>\n      <td>0</td>\n      <td>AD</td>\n      <td>Plague</td>\n    </tr>\n    <tr>\n      <th>37</th>\n      <td>37</td>\n      <td>Great Plague in the late Ming dynasty (part of...</td>\n      <td>1633–1644</td>\n      <td>China</td>\n      <td>Bubonic plague</td>\n      <td>200000</td>\n      <td>[70][71]</td>\n      <td>0</td>\n      <td>AD</td>\n      <td>Plague</td>\n    </tr>\n    <tr>\n      <th>38</th>\n      <td>38</td>\n      <td>Great Plague of Seville (part of the second pl...</td>\n      <td>1647–1652</td>\n      <td>Spain</td>\n      <td>Bubonic plague</td>\n      <td>500000</td>\n      <td>[72]</td>\n      <td>0</td>\n      <td>AD</td>\n      <td>Plague</td>\n    </tr>\n    <tr>\n      <th>39</th>\n      <td>39</td>\n      <td>1648 Central America yellow fever epidemic</td>\n      <td>1648</td>\n      <td>Central America</td>\n      <td>Yellow fever</td>\n      <td>1320837</td>\n      <td>[73]</td>\n      <td>1</td>\n      <td>AD</td>\n      <td>Yellow fever</td>\n    </tr>\n    <tr>\n      <th>40</th>\n      <td>40</td>\n      <td>Naples Plague (part of the second plague pande...</td>\n      <td>1656–1658</td>\n      <td>Italy</td>\n      <td>Bubonic plague</td>\n      <td>1250000</td>\n      <td>[74]</td>\n      <td>0</td>\n      <td>AD</td>\n      <td>Plague</td>\n    </tr>\n    <tr>\n      <th>41</th>\n      <td>41</td>\n      <td>1663–1664 Amsterdam plague epidemic (part of t...</td>\n      <td>1663–1664</td>\n      <td>Amsterdam, Netherlands</td>\n      <td>Bubonic plague</td>\n      <td>24148</td>\n      <td>[75]</td>\n      <td>0</td>\n      <td>AD</td>\n      <td>Plague</td>\n    </tr>\n    <tr>\n      <th>42</th>\n      <td>42</td>\n      <td>Great Plague of London (part of the second pla...</td>\n      <td>1665–1666</td>\n      <td>England</td>\n      <td>Bubonic plague</td>\n      <td>100000</td>\n      <td>[76][77]</td>\n      <td>0</td>\n      <td>AD</td>\n      <td>Plague</td>\n    </tr>\n    <tr>\n      <th>43</th>\n      <td>43</td>\n      <td>1668 France plague (part of the second plague ...</td>\n      <td>1668</td>\n      <td>France</td>\n      <td>Bubonic plague</td>\n      <td>40000</td>\n      <td>[78]</td>\n      <td>0</td>\n      <td>AD</td>\n      <td>Plague</td>\n    </tr>\n    <tr>\n      <th>44</th>\n      <td>44</td>\n      <td>1675–1676 Malta plague epidemic (part of the s...</td>\n      <td>1675–1676</td>\n      <td>Malta</td>\n      <td>Bubonic plague</td>\n      <td>11300</td>\n      <td>[79]</td>\n      <td>0</td>\n      <td>AD</td>\n      <td>Plague</td>\n    </tr>\n    <tr>\n      <th>45</th>\n      <td>45</td>\n      <td>1676–1685 Spain plague (part of the second pla...</td>\n      <td>1676–1685</td>\n      <td>Spain</td>\n      <td>Bubonic plague</td>\n      <td>1320837</td>\n      <td>[80]</td>\n      <td>1</td>\n      <td>AD</td>\n      <td>Plague</td>\n    </tr>\n    <tr>\n      <th>46</th>\n      <td>46</td>\n      <td>1677–1678 Boston smallpox epidemic</td>\n      <td>1677–1678</td>\n      <td>Massachusetts Bay Colony, British North America</td>\n      <td>Smallpox</td>\n      <td>875</td>\n      <td>[81]</td>\n      <td>0</td>\n      <td>AD</td>\n      <td>Smallpox</td>\n    </tr>\n    <tr>\n      <th>47</th>\n      <td>47</td>\n      <td>Great Plague of Vienna (part of the second pla...</td>\n      <td>1679</td>\n      <td>Vienna, Austria</td>\n      <td>Bubonic plague</td>\n      <td>76000</td>\n      <td>[82]</td>\n      <td>0</td>\n      <td>AD</td>\n      <td>Plague</td>\n    </tr>\n    <tr>\n      <th>48</th>\n      <td>48</td>\n      <td>1681 Prague plague epidemic (part of the secon...</td>\n      <td>1681</td>\n      <td>Prague, Czech Kingdom</td>\n      <td>Bubonic plague</td>\n      <td>83000</td>\n      <td>[83]</td>\n      <td>0</td>\n      <td>AD</td>\n      <td>Plague</td>\n    </tr>\n    <tr>\n      <th>49</th>\n      <td>49</td>\n      <td>1687 South Africa influenza outbreak</td>\n      <td>1687</td>\n      <td>South Africa</td>\n      <td>Unknown, possibly influenza</td>\n      <td>1320837</td>\n      <td>[84]</td>\n      <td>1</td>\n      <td>AD</td>\n      <td>Other</td>\n    </tr>\n  </tbody>\n</table>\n</div>"
     },
     "execution_count": 321,
     "metadata": {},
     "output_type": "execute_result"
    }
   ],
   "source": [
    "import pandas as pd\n",
    "import numpy as np\n",
    "import re\n",
    "from sklearn.pipeline import Pipeline\n",
    "from sklearn.impute import SimpleImputer\n",
    "from sklearn.preprocessing import StandardScaler, OneHotEncoder, FunctionTransformer\n",
    "from sklearn.feature_selection import SelectKBest, f_regression\n",
    "from sklearn.ensemble import RandomForestRegressor\n",
    "from sklearn.compose import ColumnTransformer\n",
    "from sklearn.model_selection import train_test_split\n",
    "from sklearn.metrics import mean_absolute_error, mean_squared_error, accuracy_score\n",
    "\n",
    "# Step 1: Load and preprocess the data\n",
    "data = pd.read_csv('data.csv')\n",
    "# new row : death toll unknown\n",
    "data['Is death toll unknown'] = data['Death toll (estimate)'].apply(lambda x: 1 if (isinstance(x, str) and len(x) >= 7 and x[:7] == 'Unknown') else 0)\n",
    "# new row : BC/AD\n",
    "data['BC/AD'] = df['Date'].apply(lambda x: 'BC' if x[-2:] == 'BC' else 'AD')\n",
    "#Disease category\n",
    "data['Disease Category'] = data['Disease'].apply(map_disease_category)\n",
    "# convert to numeric\n",
    "data = convert_string_values_to_int(data, 'Death toll (estimate)')\n",
    "data = replace_with_mean_ignore(data, 'Death toll (estimate)')\n",
    "data.head(50)\n"
   ],
   "metadata": {
    "collapsed": false
   }
  },
  {
   "cell_type": "code",
   "execution_count": 321,
   "outputs": [],
   "source": [],
   "metadata": {
    "collapsed": false
   }
  },
  {
   "cell_type": "code",
   "execution_count": 322,
   "outputs": [
    {
     "data": {
      "text/plain": "                                                 Event       Date   \n38   Great Plague of Seville (part of the second pl...  1647–1652  \\\n143                   1918–1922 Russia typhus epidemic  1918–1922   \n84   1812–1819 Ottoman plague epidemic (part of the...  1812–1819   \n55   Great Northern War plague outbreak (part of th...  1710–1712   \n217                   2011 dengue outbreak in Pakistan       2011   \n104                             Third cholera pandemic  1846–1860   \n139  Manchurian plague (part of the third plague pa...  1910–1911   \n127                                 1889–1890 pandemic  1889–1890   \n60      1732–1733 Thirteen Colonies influenza epidemic  1732–1733   \n101                       1847–1848 influenza epidemic  1847–1848   \n\n                       Location   \n38                        Spain  \\\n143                      Russia   \n84               Ottoman Empire   \n55   Denmark, Sweden, Lithuania   \n217                    Pakistan   \n104                   Worldwide   \n139                       China   \n127                   Worldwide   \n60            Thirteen Colonies   \n101                   Worldwide   \n\n                                               Disease  Is death toll unknown   \n38                                      Bubonic plague                      0  \\\n143                                             Typhus                      0   \n84                                      Bubonic plague                      0   \n55                                      Bubonic plague                      0   \n217                                       Dengue fever                      0   \n104                                            Cholera                      0   \n139                                   Pneumonic plague                      0   \n127  Influenza or Human coronavirus OC43 / HCoV-OC4...                      0   \n60                                           Influenza                      1   \n101                                          Influenza                      1   \n\n    BC/AD Disease Category  \n38     AD           Plague  \n143    AD           Typhus  \n84     AD           Plague  \n55     AD           Plague  \n217    AD     Dengue fever  \n104    AD          Cholera  \n139    AD           Plague  \n127    AD            Other  \n60     AD        Influenza  \n101    AD        Influenza  ",
      "text/html": "<div>\n<style scoped>\n    .dataframe tbody tr th:only-of-type {\n        vertical-align: middle;\n    }\n\n    .dataframe tbody tr th {\n        vertical-align: top;\n    }\n\n    .dataframe thead th {\n        text-align: right;\n    }\n</style>\n<table border=\"1\" class=\"dataframe\">\n  <thead>\n    <tr style=\"text-align: right;\">\n      <th></th>\n      <th>Event</th>\n      <th>Date</th>\n      <th>Location</th>\n      <th>Disease</th>\n      <th>Is death toll unknown</th>\n      <th>BC/AD</th>\n      <th>Disease Category</th>\n    </tr>\n  </thead>\n  <tbody>\n    <tr>\n      <th>38</th>\n      <td>Great Plague of Seville (part of the second pl...</td>\n      <td>1647–1652</td>\n      <td>Spain</td>\n      <td>Bubonic plague</td>\n      <td>0</td>\n      <td>AD</td>\n      <td>Plague</td>\n    </tr>\n    <tr>\n      <th>143</th>\n      <td>1918–1922 Russia typhus epidemic</td>\n      <td>1918–1922</td>\n      <td>Russia</td>\n      <td>Typhus</td>\n      <td>0</td>\n      <td>AD</td>\n      <td>Typhus</td>\n    </tr>\n    <tr>\n      <th>84</th>\n      <td>1812–1819 Ottoman plague epidemic (part of the...</td>\n      <td>1812–1819</td>\n      <td>Ottoman Empire</td>\n      <td>Bubonic plague</td>\n      <td>0</td>\n      <td>AD</td>\n      <td>Plague</td>\n    </tr>\n    <tr>\n      <th>55</th>\n      <td>Great Northern War plague outbreak (part of th...</td>\n      <td>1710–1712</td>\n      <td>Denmark, Sweden, Lithuania</td>\n      <td>Bubonic plague</td>\n      <td>0</td>\n      <td>AD</td>\n      <td>Plague</td>\n    </tr>\n    <tr>\n      <th>217</th>\n      <td>2011 dengue outbreak in Pakistan</td>\n      <td>2011</td>\n      <td>Pakistan</td>\n      <td>Dengue fever</td>\n      <td>0</td>\n      <td>AD</td>\n      <td>Dengue fever</td>\n    </tr>\n    <tr>\n      <th>104</th>\n      <td>Third cholera pandemic</td>\n      <td>1846–1860</td>\n      <td>Worldwide</td>\n      <td>Cholera</td>\n      <td>0</td>\n      <td>AD</td>\n      <td>Cholera</td>\n    </tr>\n    <tr>\n      <th>139</th>\n      <td>Manchurian plague (part of the third plague pa...</td>\n      <td>1910–1911</td>\n      <td>China</td>\n      <td>Pneumonic plague</td>\n      <td>0</td>\n      <td>AD</td>\n      <td>Plague</td>\n    </tr>\n    <tr>\n      <th>127</th>\n      <td>1889–1890 pandemic</td>\n      <td>1889–1890</td>\n      <td>Worldwide</td>\n      <td>Influenza or Human coronavirus OC43 / HCoV-OC4...</td>\n      <td>0</td>\n      <td>AD</td>\n      <td>Other</td>\n    </tr>\n    <tr>\n      <th>60</th>\n      <td>1732–1733 Thirteen Colonies influenza epidemic</td>\n      <td>1732–1733</td>\n      <td>Thirteen Colonies</td>\n      <td>Influenza</td>\n      <td>1</td>\n      <td>AD</td>\n      <td>Influenza</td>\n    </tr>\n    <tr>\n      <th>101</th>\n      <td>1847–1848 influenza epidemic</td>\n      <td>1847–1848</td>\n      <td>Worldwide</td>\n      <td>Influenza</td>\n      <td>1</td>\n      <td>AD</td>\n      <td>Influenza</td>\n    </tr>\n  </tbody>\n</table>\n</div>"
     },
     "execution_count": 322,
     "metadata": {},
     "output_type": "execute_result"
    }
   ],
   "source": [
    "\n",
    "# Identify X (features) and y (target variable)\n",
    "X = data.drop(['Death toll (estimate)', 'Ref.', 'Unnamed: 0' ], axis=1)\n",
    "y = data['Death toll (estimate)']\n",
    "\n",
    "# Split the data into training and testing sets\n",
    "X_train, X_test, y_train, y_test = train_test_split(X, y, test_size=0.2, random_state=42)\n",
    "\n",
    "X_train.head(10)"
   ],
   "metadata": {
    "collapsed": false
   }
  },
  {
   "cell_type": "code",
   "execution_count": 323,
   "outputs": [
    {
     "data": {
      "text/plain": "array([   500000,   2000000,    300000,    164000,       350,   1000000,\n           60000,   1320837,       227,        15,      3164,         5,\n              30,      3000,       128,     20000,      2035,      8000,\n            7130,  12000000,     80000,      3930,       415,     12500,\n            4500,     42000,      6000,    310000,    800000,      9000,\n            5600,        39,       170,       440,    650000,    100000,\n           20100,    298600,      2800,       296,       520,        31,\n             538,         2,     24148,      1627,       247,        64,\n           19850,       292,       875,      3400,       142,       455,\n              40,      3498,     10400,       105,  17000000,        32,\n             407,     19900,     30000,       100,       774,    250000,\n              53,      1000,       684,      9700,     11300,    700000,\n         1250000,      4046,     10277,        50,        27,     18449,\n           76000,    150000,       394,      1027,     40000,       500,\n             658,   7500000,      1300,       119,       498,        10,\n              17,     15000,        49,      8921,        12,      3981,\n             700,     25000,      2200,       171,       132,  42000000,\n            1080,       183,       103,      1317,     50000,     18000,\n             616,      3100,        83,       178,      1100,      4332,\n            4293,       145,       844,     83000,      3322,        35,\n         7000000,      1200,     20788,    200000,     36000,      7018,\n            7970,    600000,     65000,       123,     10075,         1,\n              77,        61,      4737, 110000000,     19000,       400,\n           10000])"
     },
     "execution_count": 323,
     "metadata": {},
     "output_type": "execute_result"
    }
   ],
   "source": [
    "y_train.unique()"
   ],
   "metadata": {
    "collapsed": false
   }
  },
  {
   "cell_type": "code",
   "execution_count": 324,
   "outputs": [],
   "source": [
    "\n",
    "# Define the preprocessing steps\n",
    "categorical_features = ['Event', 'Location', 'Disease', 'BC/AD', 'Disease Category']\n",
    "\n",
    "def custom_transformer(X):\n",
    "    # Function to extract the numeric year from a date string\n",
    "\n",
    "    def extract_numeric_year(date):\n",
    "        date = str(date)\n",
    "    #     if date contans a dash or BC\n",
    "        if '-' in date or 'BC' in date or '–' in date:\n",
    "            newdate = ''.join(filter(str.isdigit, date))\n",
    "            if '-' in date:\n",
    "                newdate = date.split('-')[0]\n",
    "            if '–' in date:\n",
    "                newdate = date.split('–')[0]\n",
    "            if'BC' in date:\n",
    "                newdate = \"-\" + newdate\n",
    "            return newdate\n",
    "        else:\n",
    "            return date\n",
    "\n",
    "    # Apply the extract_numeric_year function element-wise to the 'Date' column\n",
    "    X_transformed = X['Date'].apply(extract_numeric_year)\n",
    "\n",
    "    X['Date'] = X_transformed\n",
    "    return X\n",
    "\n",
    "custom_transformer = FunctionTransformer(custom_transformer)\n",
    "\n",
    "categorical_transformer = Pipeline(steps=[\n",
    "    ('imputer', SimpleImputer(strategy='most_frequent')),\n",
    "    ('encoder', OneHotEncoder(handle_unknown='ignore'))\n",
    "])\n",
    "\n",
    "preprocessor_X = ColumnTransformer(\n",
    "    transformers=[\n",
    "        ('custom', custom_transformer, ['Date']),\n",
    "        ('cat', categorical_transformer, categorical_features)\n",
    "    ])\n",
    "\n",
    "# Step 2: Feature selection\n",
    "feature_selector = SelectKBest(score_func=f_regression, k=7)\n",
    "\n",
    "# Step 3: Choose an ML model\n",
    "model = RandomForestRegressor(n_estimators=100, random_state=42)\n",
    "\n",
    "# Step 4: Create the pipeline\n",
    "pipeline = Pipeline(steps=[\n",
    "    ('preprocessor_X', preprocessor_X),\n",
    "    ('feature_selector', feature_selector),\n",
    "    ('model', model)\n",
    "])"
   ],
   "metadata": {
    "collapsed": false
   }
  },
  {
   "cell_type": "code",
   "execution_count": 325,
   "outputs": [],
   "source": [
    "# Fit the pipeline on the training data\n",
    "pipeline.fit(X_train, y_train)\n",
    "\n",
    "# Step 5: Make predictions and evaluate accuracy scores\n",
    "y_pred = pipeline.predict(X_test)\n",
    "\n",
    "y_pred = np.round(y_pred).astype(int)"
   ],
   "metadata": {
    "collapsed": false
   }
  },
  {
   "cell_type": "code",
   "execution_count": 326,
   "outputs": [
    {
     "name": "stdout",
     "output_type": "stream",
     "text": [
      "Accuracy: -0.02792294529362027\n",
      "MAE: 1841140.450980392\n",
      "RMSE: 19196.800920680387\n"
     ]
    }
   ],
   "source": [
    "# Report accuracy scores in different formats\n",
    "# accuracy = accuracy_score(y_test, np.round(y_pred).astype(int))  # Classification accuracy\n",
    "mae = mean_absolute_error(y_test, y_pred)  # Mean Absolute Error\n",
    "rmse = mean_squared_error(y_test, y_pred, squared=False)  # Root Mean Squared Error\n",
    "accuracy = pipeline.score(X_test, y_test)\n",
    "\n",
    "print(f\"Accuracy: {accuracy}\")\n",
    "print(f\"MAE: {mae}\")\n",
    "print(f\"RMSE: {rmse}\")"
   ],
   "metadata": {
    "collapsed": false
   }
  },
  {
   "cell_type": "code",
   "execution_count": 327,
   "outputs": [
    {
     "data": {
      "text/plain": "array([[      18,   330149],\n       [58000000,   330149],\n       [    5000,   330149],\n       [     115,   330149],\n       [     748,   330149],\n       [       7,   330149],\n       [      67,   330149],\n       [      37,   330149],\n       [   25000,   330149],\n       [   40000,   330149],\n       [     280,  2800982],\n       [     941,  2800982],\n       [      36,   330149],\n       [   11323,   330149],\n       [    2700,   330149],\n       [     835,   330149],\n       [     183,   330149],\n       [   10000,   330149],\n       [ 1320837,   330149],\n       [    7000,   330149],\n       [      69,   330149],\n       [ 5000000,   330149],\n       [   40000,   330149],\n       [ 1320837,   330149],\n       [   13712,   330149],\n       [   13000,   330149],\n       [      18,  2800982],\n       [     172,   330149],\n       [ 1320837,   330149],\n       [     139,   330149],\n       [      56,   330149],\n       [   17000,   330149],\n       [      43,   330149],\n       [      55,   330149],\n       [       8,   330149],\n       [ 1320837,   330149],\n       [   60000,   330149],\n       [ 5000000,   330149],\n       [   11000,   330149],\n       [       4,   330149],\n       [     187,   330149],\n       [   10000,   330149],\n       [    2280,   330149],\n       [      24,   330149],\n       [ 1320837,   330149],\n       [   45000,   330149],\n       [   17000,   330149],\n       [ 1320837,   330149],\n       [      18,   330149],\n       [      95,   330149],\n       [     105,   330149]])"
     },
     "execution_count": 327,
     "metadata": {},
     "output_type": "execute_result"
    }
   ],
   "source": [
    "# look at the predictions and the actual values\n",
    "results = pd.DataFrame({'Actual': y_test, 'Predicted': y_pred})\n",
    "results.values"
   ],
   "metadata": {
    "collapsed": false
   }
  },
  {
   "cell_type": "code",
   "execution_count": 328,
   "outputs": [
    {
     "name": "stdout",
     "output_type": "stream",
     "text": [
      "                 Feature  Importance\n",
      "4  Is death toll unknown    0.219977\n",
      "2               Location    0.206644\n",
      "0                  Event    0.199406\n",
      "3                Disease    0.134506\n",
      "1                   Date    0.112322\n",
      "5                  BC/AD    0.069703\n",
      "6       Disease Category    0.057441\n"
     ]
    }
   ],
   "source": [
    "# Retrieve the feature importances\n",
    "feature_importances = pipeline.named_steps['model'].feature_importances_\n",
    "\n",
    "# Create a DataFrame to store feature importance scores\n",
    "importance_df = pd.DataFrame({'Feature': X_train.columns, 'Importance': feature_importances})\n",
    "\n",
    "# Sort the DataFrame by importance score in descending order\n",
    "importance_df = importance_df.sort_values('Importance', ascending=False)\n",
    "\n",
    "# Print the feature importance ranking\n",
    "print(importance_df)"
   ],
   "metadata": {
    "collapsed": false
   }
  },
  {
   "cell_type": "markdown",
   "source": [
    "Predicting the death toll as a classification problem"
   ],
   "metadata": {
    "collapsed": false
   }
  },
  {
   "cell_type": "code",
   "execution_count": 329,
   "outputs": [
    {
     "data": {
      "text/plain": "    Unnamed: 0                                              Event   \n0            0                          1350 BC plague of Megiddo  \\\n1            1                                   Plague of Athens   \n2            2                                    412 BC epidemic   \n3            3                                    Antonine Plague   \n4            4                                     Jian'an Plague   \n5            5                                  Plague of Cyprian   \n6            6  Plague of Justinian (beginning of first plague...   \n7            7  Roman Plague of 590 (part of first plague pand...   \n8            8   Plague of Sheroe (part of First plague pandemic)   \n9            9    Plague of Amwas (part of first plague pandemic)   \n10          10      Plague of 664 (part of first plague pandemic)   \n11          11  Plague of 698–701 (part of first plague pandemic)   \n12          12                 735–737 Japanese smallpox epidemic   \n13          13  Plague of 746–747 (part of first plague pandemic)   \n14          14  Black Death (start of the second plague pandemic)   \n15          15             Sweating sickness (multiple outbreaks)   \n16          16                         1489 Spain typhus epidemic   \n17          17                            1510 influenza pandemic   \n18          18                      1520 Mexico smallpox epidemic   \n19          19                   Cocoliztli epidemic of 1545–1548   \n20          20                            1557 influenza pandemic   \n21          21                       1561 Chile smallpox epidemic   \n22          22  1563 London plague (part of the second plague ...   \n23          23                        Cocoliztli epidemic of 1576   \n24          24  1582 Tenerife plague epidemic (part of the sec...   \n25          25           1592–1596 Seneca nation measles epidemic   \n26          26  1592–1593 Malta plague epidemic (part of the s...   \n27          27  1592–1593 London plague (part of the second pl...   \n28          28  1596–1602 Spain plague epidemic (part of the s...   \n29          29           1600–1650 South America malaria epidemic   \n30          30  1603 London plague epidemic (part of the secon...   \n31          31               1616 New England infections epidemic   \n32          32  1629–1631 Italian plague (part of the second p...   \n33          33  1632–1635 Augsburg plague epidemic (part of th...   \n34          34                    Massachusetts smallpox epidemic   \n35          35                  1634–1640 Wyandot people epidemic   \n36          36  1637 London plague epidemic (part of the secon...   \n37          37  Great Plague in the late Ming dynasty (part of...   \n38          38  Great Plague of Seville (part of the second pl...   \n39          39         1648 Central America yellow fever epidemic   \n40          40  Naples Plague (part of the second plague pande...   \n41          41  1663–1664 Amsterdam plague epidemic (part of t...   \n42          42  Great Plague of London (part of the second pla...   \n43          43  1668 France plague (part of the second plague ...   \n44          44  1675–1676 Malta plague epidemic (part of the s...   \n45          45  1676–1685 Spain plague (part of the second pla...   \n46          46                 1677–1678 Boston smallpox epidemic   \n47          47  Great Plague of Vienna (part of the second pla...   \n48          48  1681 Prague plague epidemic (part of the secon...   \n49          49               1687 South Africa influenza outbreak   \n\n                            Date   \n0                        1350 BC  \\\n1                     430–426 BC   \n2                         412 BC   \n3   165–180 (possibly up to 190)   \n4                            217   \n5                        249–262   \n6                        541–549   \n7                            590   \n8                        627–628   \n9                        638–639   \n10                       664–689   \n11                       698–701   \n12                       735–737   \n13                       746–747   \n14                     1346–1353   \n15                     1485–1551   \n16                          1489   \n17                          1510   \n18                     1519–1520   \n19                     1545–1548   \n20                     1557–1559   \n21                     1561–1562   \n22                     1563–1564   \n23                     1576–1580   \n24                     1582–1583   \n25                     1592–1596   \n26                     1592–1593   \n27                     1592–1593   \n28                     1596–1602   \n29                     1600–1650   \n30                          1603   \n31                     1616–1620   \n32                     1629–1631   \n33                     1632–1635   \n34                     1633–1634   \n35                     1634–1640   \n36                     1636–1637   \n37                     1633–1644   \n38                     1647–1652   \n39                          1648   \n40                     1656–1658   \n41                     1663–1664   \n42                     1665–1666   \n43                          1668   \n44                     1675–1676   \n45                     1676–1685   \n46                     1677–1678   \n47                          1679   \n48                          1681   \n49                          1687   \n\n                                             Location   \n0                             Megiddo, land of Canaan  \\\n1                      Greece, Libya, Egypt, Ethiopia   \n2            Greece (Northern Greece, Roman Republic)   \n3                                        Roman Empire   \n4                                         Han Dynasty   \n5                                              Europe   \n6                                Europe and West Asia   \n7                              Rome, Byzantine Empire   \n8                                       Bilad al-Sham   \n9                 Byzantine Empire, West Asia, Africa   \n10                                      British Isles   \n11    Byzantine Empire, West Asia, Syria, Mesopotamia   \n12                                              Japan   \n13                Byzantine Empire, West Asia, Africa   \n14                           Eurasia and North Africa   \n15     Britain (England) and later continental Europe   \n16                                              Spain   \n17                         Asia, North Africa, Europe   \n18                                             Mexico   \n19                                             Mexico   \n20                 Asia, Africa, Europe, and Americas   \n21                                              Chile   \n22                                    London, England   \n23                                             Mexico   \n24                                    Tenerife, Spain   \n25                       Seneca nation, North America   \n26                                              Malta   \n27                                    London, England   \n28                                              Spain   \n29                                      South America   \n30                                    London, England   \n31  Southern New England, British North America, e...   \n32                                              Italy   \n33                                  Augsburg, Germany   \n34        Massachusetts Bay Colony, Thirteen Colonies   \n35                      Wyandot people, North America   \n36                    London and Westminster, England   \n37                                              China   \n38                                              Spain   \n39                                    Central America   \n40                                              Italy   \n41                             Amsterdam, Netherlands   \n42                                            England   \n43                                             France   \n44                                              Malta   \n45                                              Spain   \n46    Massachusetts Bay Colony, British North America   \n47                                    Vienna, Austria   \n48                              Prague, Czech Kingdom   \n49                                       South Africa   \n\n                                              Disease  Death toll (estimate)   \n0   Amarna letters EA 244, Biridiya, mayor of Megi...                1320837  \\\n1   Unknown, possibly typhus, typhoid fever or vir...                  80000   \n2                         Unknown, possibly influenza                1320837   \n3                          Unknown, possibly smallpox                7500000   \n4   Unknown, possibly typhoid fever or viral hemor...                1320837   \n5                          Unknown, possibly smallpox                 310000   \n6                                      Bubonic plague               58000000   \n7                                      Bubonic plague                1320837   \n8                                      Bubonic plague                  25000   \n9                                      Bubonic plague                  25000   \n10                                     Bubonic plague                1320837   \n11                                     Bubonic plague                1320837   \n12                                           Smallpox                2000000   \n13                                     Bubonic plague                1320837   \n14           Bubonic plague Yersinia pestis bacterium              110000000   \n15  Unknown, possibly an unknown species of hantav...                  10000   \n16                                             Typhus                  17000   \n17                                          Influenza                1320837   \n18                                           Smallpox                5000000   \n19                       Possibly Salmonella enterica                5000000   \n20                                          Influenza                1320837   \n21                                           Smallpox                1320837   \n22                                     Bubonic plague                  20100   \n23                       Possibly Salmonella enterica                2000000   \n24                                     Bubonic plague                   7000   \n25                                            Measles                1320837   \n26                                     Bubonic plague                   3000   \n27                                     Bubonic plague                  19900   \n28                                     Bubonic plague                 650000   \n29                                            Malaria                1320837   \n30                                     Bubonic plague                  40000   \n31  Unknown, possibly leptospirosis with Weil synd...                1320837   \n32                                     Bubonic plague                1000000   \n33                                     Bubonic plague                  13712   \n34                                           Smallpox                   1000   \n35                             Smallpox and Influenza                  20000   \n36                                     Bubonic plague                  10400   \n37                                     Bubonic plague                 200000   \n38                                     Bubonic plague                 500000   \n39                                       Yellow fever                1320837   \n40                                     Bubonic plague                1250000   \n41                                     Bubonic plague                  24148   \n42                                     Bubonic plague                 100000   \n43                                     Bubonic plague                  40000   \n44                                     Bubonic plague                  11300   \n45                                     Bubonic plague                1320837   \n46                                           Smallpox                    875   \n47                                     Bubonic plague                  76000   \n48                                     Bubonic plague                  83000   \n49                        Unknown, possibly influenza                1320837   \n\n                 Ref.  Is death toll unknown BC/AD Disease Category  \n0                [26]                      1    BC            Other  \n1    [27][28][29][30]                      0    BC            Other  \n2                [31]                      1    BC            Other  \n3            [32][33]                      0    AD            Other  \n4            [34][35]                      1    AD            Other  \n5            [36][37]                      0    AD            Other  \n6         [8][38][39]                      0    AD           Plague  \n7                [40]                      1    AD           Plague  \n8                 NaN                      0    AD           Plague  \n9                [41]                      0    AD           Plague  \n10               [42]                      1    AD           Plague  \n11               [43]                      1    AD           Plague  \n12           [13][44]                      0    AD         Smallpox  \n13               [41]                      1    AD           Plague  \n14               [45]                      0    AD           Plague  \n15               [46]                      0    AD            Other  \n16               [47]                      0    AD           Typhus  \n17               [48]                      1    AD        Influenza  \n18               [10]                      0    AD         Smallpox  \n19   [49][50][51][52]                      0    AD            Other  \n20                NaN                      1    AD        Influenza  \n21               [53]                      1    AD         Smallpox  \n22               [54]                      0    AD           Plague  \n23   [49][50][51][52]                      0    AD            Other  \n24               [55]                      0    AD           Plague  \n25               [56]                      1    AD          Measles  \n26               [57]                      0    AD           Plague  \n27               [58]                      0    AD           Plague  \n28               [59]                      0    AD           Plague  \n29  [citation needed]                      1    AD          Malaria  \n30       [60][61][62]                      0    AD           Plague  \n31           [63][64]                      1    AD            Other  \n32               [65]                      0    AD           Plague  \n33               [66]                      0    AD           Plague  \n34               [67]                      0    AD         Smallpox  \n35               [68]                      0    AD         Smallpox  \n36               [69]                      0    AD           Plague  \n37           [70][71]                      0    AD           Plague  \n38               [72]                      0    AD           Plague  \n39               [73]                      1    AD     Yellow fever  \n40               [74]                      0    AD           Plague  \n41               [75]                      0    AD           Plague  \n42           [76][77]                      0    AD           Plague  \n43               [78]                      0    AD           Plague  \n44               [79]                      0    AD           Plague  \n45               [80]                      1    AD           Plague  \n46               [81]                      0    AD         Smallpox  \n47               [82]                      0    AD           Plague  \n48               [83]                      0    AD           Plague  \n49               [84]                      1    AD            Other  ",
      "text/html": "<div>\n<style scoped>\n    .dataframe tbody tr th:only-of-type {\n        vertical-align: middle;\n    }\n\n    .dataframe tbody tr th {\n        vertical-align: top;\n    }\n\n    .dataframe thead th {\n        text-align: right;\n    }\n</style>\n<table border=\"1\" class=\"dataframe\">\n  <thead>\n    <tr style=\"text-align: right;\">\n      <th></th>\n      <th>Unnamed: 0</th>\n      <th>Event</th>\n      <th>Date</th>\n      <th>Location</th>\n      <th>Disease</th>\n      <th>Death toll (estimate)</th>\n      <th>Ref.</th>\n      <th>Is death toll unknown</th>\n      <th>BC/AD</th>\n      <th>Disease Category</th>\n    </tr>\n  </thead>\n  <tbody>\n    <tr>\n      <th>0</th>\n      <td>0</td>\n      <td>1350 BC plague of Megiddo</td>\n      <td>1350 BC</td>\n      <td>Megiddo, land of Canaan</td>\n      <td>Amarna letters EA 244, Biridiya, mayor of Megi...</td>\n      <td>1320837</td>\n      <td>[26]</td>\n      <td>1</td>\n      <td>BC</td>\n      <td>Other</td>\n    </tr>\n    <tr>\n      <th>1</th>\n      <td>1</td>\n      <td>Plague of Athens</td>\n      <td>430–426 BC</td>\n      <td>Greece, Libya, Egypt, Ethiopia</td>\n      <td>Unknown, possibly typhus, typhoid fever or vir...</td>\n      <td>80000</td>\n      <td>[27][28][29][30]</td>\n      <td>0</td>\n      <td>BC</td>\n      <td>Other</td>\n    </tr>\n    <tr>\n      <th>2</th>\n      <td>2</td>\n      <td>412 BC epidemic</td>\n      <td>412 BC</td>\n      <td>Greece (Northern Greece, Roman Republic)</td>\n      <td>Unknown, possibly influenza</td>\n      <td>1320837</td>\n      <td>[31]</td>\n      <td>1</td>\n      <td>BC</td>\n      <td>Other</td>\n    </tr>\n    <tr>\n      <th>3</th>\n      <td>3</td>\n      <td>Antonine Plague</td>\n      <td>165–180 (possibly up to 190)</td>\n      <td>Roman Empire</td>\n      <td>Unknown, possibly smallpox</td>\n      <td>7500000</td>\n      <td>[32][33]</td>\n      <td>0</td>\n      <td>AD</td>\n      <td>Other</td>\n    </tr>\n    <tr>\n      <th>4</th>\n      <td>4</td>\n      <td>Jian'an Plague</td>\n      <td>217</td>\n      <td>Han Dynasty</td>\n      <td>Unknown, possibly typhoid fever or viral hemor...</td>\n      <td>1320837</td>\n      <td>[34][35]</td>\n      <td>1</td>\n      <td>AD</td>\n      <td>Other</td>\n    </tr>\n    <tr>\n      <th>5</th>\n      <td>5</td>\n      <td>Plague of Cyprian</td>\n      <td>249–262</td>\n      <td>Europe</td>\n      <td>Unknown, possibly smallpox</td>\n      <td>310000</td>\n      <td>[36][37]</td>\n      <td>0</td>\n      <td>AD</td>\n      <td>Other</td>\n    </tr>\n    <tr>\n      <th>6</th>\n      <td>6</td>\n      <td>Plague of Justinian (beginning of first plague...</td>\n      <td>541–549</td>\n      <td>Europe and West Asia</td>\n      <td>Bubonic plague</td>\n      <td>58000000</td>\n      <td>[8][38][39]</td>\n      <td>0</td>\n      <td>AD</td>\n      <td>Plague</td>\n    </tr>\n    <tr>\n      <th>7</th>\n      <td>7</td>\n      <td>Roman Plague of 590 (part of first plague pand...</td>\n      <td>590</td>\n      <td>Rome, Byzantine Empire</td>\n      <td>Bubonic plague</td>\n      <td>1320837</td>\n      <td>[40]</td>\n      <td>1</td>\n      <td>AD</td>\n      <td>Plague</td>\n    </tr>\n    <tr>\n      <th>8</th>\n      <td>8</td>\n      <td>Plague of Sheroe (part of First plague pandemic)</td>\n      <td>627–628</td>\n      <td>Bilad al-Sham</td>\n      <td>Bubonic plague</td>\n      <td>25000</td>\n      <td>NaN</td>\n      <td>0</td>\n      <td>AD</td>\n      <td>Plague</td>\n    </tr>\n    <tr>\n      <th>9</th>\n      <td>9</td>\n      <td>Plague of Amwas (part of first plague pandemic)</td>\n      <td>638–639</td>\n      <td>Byzantine Empire, West Asia, Africa</td>\n      <td>Bubonic plague</td>\n      <td>25000</td>\n      <td>[41]</td>\n      <td>0</td>\n      <td>AD</td>\n      <td>Plague</td>\n    </tr>\n    <tr>\n      <th>10</th>\n      <td>10</td>\n      <td>Plague of 664 (part of first plague pandemic)</td>\n      <td>664–689</td>\n      <td>British Isles</td>\n      <td>Bubonic plague</td>\n      <td>1320837</td>\n      <td>[42]</td>\n      <td>1</td>\n      <td>AD</td>\n      <td>Plague</td>\n    </tr>\n    <tr>\n      <th>11</th>\n      <td>11</td>\n      <td>Plague of 698–701 (part of first plague pandemic)</td>\n      <td>698–701</td>\n      <td>Byzantine Empire, West Asia, Syria, Mesopotamia</td>\n      <td>Bubonic plague</td>\n      <td>1320837</td>\n      <td>[43]</td>\n      <td>1</td>\n      <td>AD</td>\n      <td>Plague</td>\n    </tr>\n    <tr>\n      <th>12</th>\n      <td>12</td>\n      <td>735–737 Japanese smallpox epidemic</td>\n      <td>735–737</td>\n      <td>Japan</td>\n      <td>Smallpox</td>\n      <td>2000000</td>\n      <td>[13][44]</td>\n      <td>0</td>\n      <td>AD</td>\n      <td>Smallpox</td>\n    </tr>\n    <tr>\n      <th>13</th>\n      <td>13</td>\n      <td>Plague of 746–747 (part of first plague pandemic)</td>\n      <td>746–747</td>\n      <td>Byzantine Empire, West Asia, Africa</td>\n      <td>Bubonic plague</td>\n      <td>1320837</td>\n      <td>[41]</td>\n      <td>1</td>\n      <td>AD</td>\n      <td>Plague</td>\n    </tr>\n    <tr>\n      <th>14</th>\n      <td>14</td>\n      <td>Black Death (start of the second plague pandemic)</td>\n      <td>1346–1353</td>\n      <td>Eurasia and North Africa</td>\n      <td>Bubonic plague Yersinia pestis bacterium</td>\n      <td>110000000</td>\n      <td>[45]</td>\n      <td>0</td>\n      <td>AD</td>\n      <td>Plague</td>\n    </tr>\n    <tr>\n      <th>15</th>\n      <td>15</td>\n      <td>Sweating sickness (multiple outbreaks)</td>\n      <td>1485–1551</td>\n      <td>Britain (England) and later continental Europe</td>\n      <td>Unknown, possibly an unknown species of hantav...</td>\n      <td>10000</td>\n      <td>[46]</td>\n      <td>0</td>\n      <td>AD</td>\n      <td>Other</td>\n    </tr>\n    <tr>\n      <th>16</th>\n      <td>16</td>\n      <td>1489 Spain typhus epidemic</td>\n      <td>1489</td>\n      <td>Spain</td>\n      <td>Typhus</td>\n      <td>17000</td>\n      <td>[47]</td>\n      <td>0</td>\n      <td>AD</td>\n      <td>Typhus</td>\n    </tr>\n    <tr>\n      <th>17</th>\n      <td>17</td>\n      <td>1510 influenza pandemic</td>\n      <td>1510</td>\n      <td>Asia, North Africa, Europe</td>\n      <td>Influenza</td>\n      <td>1320837</td>\n      <td>[48]</td>\n      <td>1</td>\n      <td>AD</td>\n      <td>Influenza</td>\n    </tr>\n    <tr>\n      <th>18</th>\n      <td>18</td>\n      <td>1520 Mexico smallpox epidemic</td>\n      <td>1519–1520</td>\n      <td>Mexico</td>\n      <td>Smallpox</td>\n      <td>5000000</td>\n      <td>[10]</td>\n      <td>0</td>\n      <td>AD</td>\n      <td>Smallpox</td>\n    </tr>\n    <tr>\n      <th>19</th>\n      <td>19</td>\n      <td>Cocoliztli epidemic of 1545–1548</td>\n      <td>1545–1548</td>\n      <td>Mexico</td>\n      <td>Possibly Salmonella enterica</td>\n      <td>5000000</td>\n      <td>[49][50][51][52]</td>\n      <td>0</td>\n      <td>AD</td>\n      <td>Other</td>\n    </tr>\n    <tr>\n      <th>20</th>\n      <td>20</td>\n      <td>1557 influenza pandemic</td>\n      <td>1557–1559</td>\n      <td>Asia, Africa, Europe, and Americas</td>\n      <td>Influenza</td>\n      <td>1320837</td>\n      <td>NaN</td>\n      <td>1</td>\n      <td>AD</td>\n      <td>Influenza</td>\n    </tr>\n    <tr>\n      <th>21</th>\n      <td>21</td>\n      <td>1561 Chile smallpox epidemic</td>\n      <td>1561–1562</td>\n      <td>Chile</td>\n      <td>Smallpox</td>\n      <td>1320837</td>\n      <td>[53]</td>\n      <td>1</td>\n      <td>AD</td>\n      <td>Smallpox</td>\n    </tr>\n    <tr>\n      <th>22</th>\n      <td>22</td>\n      <td>1563 London plague (part of the second plague ...</td>\n      <td>1563–1564</td>\n      <td>London, England</td>\n      <td>Bubonic plague</td>\n      <td>20100</td>\n      <td>[54]</td>\n      <td>0</td>\n      <td>AD</td>\n      <td>Plague</td>\n    </tr>\n    <tr>\n      <th>23</th>\n      <td>23</td>\n      <td>Cocoliztli epidemic of 1576</td>\n      <td>1576–1580</td>\n      <td>Mexico</td>\n      <td>Possibly Salmonella enterica</td>\n      <td>2000000</td>\n      <td>[49][50][51][52]</td>\n      <td>0</td>\n      <td>AD</td>\n      <td>Other</td>\n    </tr>\n    <tr>\n      <th>24</th>\n      <td>24</td>\n      <td>1582 Tenerife plague epidemic (part of the sec...</td>\n      <td>1582–1583</td>\n      <td>Tenerife, Spain</td>\n      <td>Bubonic plague</td>\n      <td>7000</td>\n      <td>[55]</td>\n      <td>0</td>\n      <td>AD</td>\n      <td>Plague</td>\n    </tr>\n    <tr>\n      <th>25</th>\n      <td>25</td>\n      <td>1592–1596 Seneca nation measles epidemic</td>\n      <td>1592–1596</td>\n      <td>Seneca nation, North America</td>\n      <td>Measles</td>\n      <td>1320837</td>\n      <td>[56]</td>\n      <td>1</td>\n      <td>AD</td>\n      <td>Measles</td>\n    </tr>\n    <tr>\n      <th>26</th>\n      <td>26</td>\n      <td>1592–1593 Malta plague epidemic (part of the s...</td>\n      <td>1592–1593</td>\n      <td>Malta</td>\n      <td>Bubonic plague</td>\n      <td>3000</td>\n      <td>[57]</td>\n      <td>0</td>\n      <td>AD</td>\n      <td>Plague</td>\n    </tr>\n    <tr>\n      <th>27</th>\n      <td>27</td>\n      <td>1592–1593 London plague (part of the second pl...</td>\n      <td>1592–1593</td>\n      <td>London, England</td>\n      <td>Bubonic plague</td>\n      <td>19900</td>\n      <td>[58]</td>\n      <td>0</td>\n      <td>AD</td>\n      <td>Plague</td>\n    </tr>\n    <tr>\n      <th>28</th>\n      <td>28</td>\n      <td>1596–1602 Spain plague epidemic (part of the s...</td>\n      <td>1596–1602</td>\n      <td>Spain</td>\n      <td>Bubonic plague</td>\n      <td>650000</td>\n      <td>[59]</td>\n      <td>0</td>\n      <td>AD</td>\n      <td>Plague</td>\n    </tr>\n    <tr>\n      <th>29</th>\n      <td>29</td>\n      <td>1600–1650 South America malaria epidemic</td>\n      <td>1600–1650</td>\n      <td>South America</td>\n      <td>Malaria</td>\n      <td>1320837</td>\n      <td>[citation needed]</td>\n      <td>1</td>\n      <td>AD</td>\n      <td>Malaria</td>\n    </tr>\n    <tr>\n      <th>30</th>\n      <td>30</td>\n      <td>1603 London plague epidemic (part of the secon...</td>\n      <td>1603</td>\n      <td>London, England</td>\n      <td>Bubonic plague</td>\n      <td>40000</td>\n      <td>[60][61][62]</td>\n      <td>0</td>\n      <td>AD</td>\n      <td>Plague</td>\n    </tr>\n    <tr>\n      <th>31</th>\n      <td>31</td>\n      <td>1616 New England infections epidemic</td>\n      <td>1616–1620</td>\n      <td>Southern New England, British North America, e...</td>\n      <td>Unknown, possibly leptospirosis with Weil synd...</td>\n      <td>1320837</td>\n      <td>[63][64]</td>\n      <td>1</td>\n      <td>AD</td>\n      <td>Other</td>\n    </tr>\n    <tr>\n      <th>32</th>\n      <td>32</td>\n      <td>1629–1631 Italian plague (part of the second p...</td>\n      <td>1629–1631</td>\n      <td>Italy</td>\n      <td>Bubonic plague</td>\n      <td>1000000</td>\n      <td>[65]</td>\n      <td>0</td>\n      <td>AD</td>\n      <td>Plague</td>\n    </tr>\n    <tr>\n      <th>33</th>\n      <td>33</td>\n      <td>1632–1635 Augsburg plague epidemic (part of th...</td>\n      <td>1632–1635</td>\n      <td>Augsburg, Germany</td>\n      <td>Bubonic plague</td>\n      <td>13712</td>\n      <td>[66]</td>\n      <td>0</td>\n      <td>AD</td>\n      <td>Plague</td>\n    </tr>\n    <tr>\n      <th>34</th>\n      <td>34</td>\n      <td>Massachusetts smallpox epidemic</td>\n      <td>1633–1634</td>\n      <td>Massachusetts Bay Colony, Thirteen Colonies</td>\n      <td>Smallpox</td>\n      <td>1000</td>\n      <td>[67]</td>\n      <td>0</td>\n      <td>AD</td>\n      <td>Smallpox</td>\n    </tr>\n    <tr>\n      <th>35</th>\n      <td>35</td>\n      <td>1634–1640 Wyandot people epidemic</td>\n      <td>1634–1640</td>\n      <td>Wyandot people, North America</td>\n      <td>Smallpox and Influenza</td>\n      <td>20000</td>\n      <td>[68]</td>\n      <td>0</td>\n      <td>AD</td>\n      <td>Smallpox</td>\n    </tr>\n    <tr>\n      <th>36</th>\n      <td>36</td>\n      <td>1637 London plague epidemic (part of the secon...</td>\n      <td>1636–1637</td>\n      <td>London and Westminster, England</td>\n      <td>Bubonic plague</td>\n      <td>10400</td>\n      <td>[69]</td>\n      <td>0</td>\n      <td>AD</td>\n      <td>Plague</td>\n    </tr>\n    <tr>\n      <th>37</th>\n      <td>37</td>\n      <td>Great Plague in the late Ming dynasty (part of...</td>\n      <td>1633–1644</td>\n      <td>China</td>\n      <td>Bubonic plague</td>\n      <td>200000</td>\n      <td>[70][71]</td>\n      <td>0</td>\n      <td>AD</td>\n      <td>Plague</td>\n    </tr>\n    <tr>\n      <th>38</th>\n      <td>38</td>\n      <td>Great Plague of Seville (part of the second pl...</td>\n      <td>1647–1652</td>\n      <td>Spain</td>\n      <td>Bubonic plague</td>\n      <td>500000</td>\n      <td>[72]</td>\n      <td>0</td>\n      <td>AD</td>\n      <td>Plague</td>\n    </tr>\n    <tr>\n      <th>39</th>\n      <td>39</td>\n      <td>1648 Central America yellow fever epidemic</td>\n      <td>1648</td>\n      <td>Central America</td>\n      <td>Yellow fever</td>\n      <td>1320837</td>\n      <td>[73]</td>\n      <td>1</td>\n      <td>AD</td>\n      <td>Yellow fever</td>\n    </tr>\n    <tr>\n      <th>40</th>\n      <td>40</td>\n      <td>Naples Plague (part of the second plague pande...</td>\n      <td>1656–1658</td>\n      <td>Italy</td>\n      <td>Bubonic plague</td>\n      <td>1250000</td>\n      <td>[74]</td>\n      <td>0</td>\n      <td>AD</td>\n      <td>Plague</td>\n    </tr>\n    <tr>\n      <th>41</th>\n      <td>41</td>\n      <td>1663–1664 Amsterdam plague epidemic (part of t...</td>\n      <td>1663–1664</td>\n      <td>Amsterdam, Netherlands</td>\n      <td>Bubonic plague</td>\n      <td>24148</td>\n      <td>[75]</td>\n      <td>0</td>\n      <td>AD</td>\n      <td>Plague</td>\n    </tr>\n    <tr>\n      <th>42</th>\n      <td>42</td>\n      <td>Great Plague of London (part of the second pla...</td>\n      <td>1665–1666</td>\n      <td>England</td>\n      <td>Bubonic plague</td>\n      <td>100000</td>\n      <td>[76][77]</td>\n      <td>0</td>\n      <td>AD</td>\n      <td>Plague</td>\n    </tr>\n    <tr>\n      <th>43</th>\n      <td>43</td>\n      <td>1668 France plague (part of the second plague ...</td>\n      <td>1668</td>\n      <td>France</td>\n      <td>Bubonic plague</td>\n      <td>40000</td>\n      <td>[78]</td>\n      <td>0</td>\n      <td>AD</td>\n      <td>Plague</td>\n    </tr>\n    <tr>\n      <th>44</th>\n      <td>44</td>\n      <td>1675–1676 Malta plague epidemic (part of the s...</td>\n      <td>1675–1676</td>\n      <td>Malta</td>\n      <td>Bubonic plague</td>\n      <td>11300</td>\n      <td>[79]</td>\n      <td>0</td>\n      <td>AD</td>\n      <td>Plague</td>\n    </tr>\n    <tr>\n      <th>45</th>\n      <td>45</td>\n      <td>1676–1685 Spain plague (part of the second pla...</td>\n      <td>1676–1685</td>\n      <td>Spain</td>\n      <td>Bubonic plague</td>\n      <td>1320837</td>\n      <td>[80]</td>\n      <td>1</td>\n      <td>AD</td>\n      <td>Plague</td>\n    </tr>\n    <tr>\n      <th>46</th>\n      <td>46</td>\n      <td>1677–1678 Boston smallpox epidemic</td>\n      <td>1677–1678</td>\n      <td>Massachusetts Bay Colony, British North America</td>\n      <td>Smallpox</td>\n      <td>875</td>\n      <td>[81]</td>\n      <td>0</td>\n      <td>AD</td>\n      <td>Smallpox</td>\n    </tr>\n    <tr>\n      <th>47</th>\n      <td>47</td>\n      <td>Great Plague of Vienna (part of the second pla...</td>\n      <td>1679</td>\n      <td>Vienna, Austria</td>\n      <td>Bubonic plague</td>\n      <td>76000</td>\n      <td>[82]</td>\n      <td>0</td>\n      <td>AD</td>\n      <td>Plague</td>\n    </tr>\n    <tr>\n      <th>48</th>\n      <td>48</td>\n      <td>1681 Prague plague epidemic (part of the secon...</td>\n      <td>1681</td>\n      <td>Prague, Czech Kingdom</td>\n      <td>Bubonic plague</td>\n      <td>83000</td>\n      <td>[83]</td>\n      <td>0</td>\n      <td>AD</td>\n      <td>Plague</td>\n    </tr>\n    <tr>\n      <th>49</th>\n      <td>49</td>\n      <td>1687 South Africa influenza outbreak</td>\n      <td>1687</td>\n      <td>South Africa</td>\n      <td>Unknown, possibly influenza</td>\n      <td>1320837</td>\n      <td>[84]</td>\n      <td>1</td>\n      <td>AD</td>\n      <td>Other</td>\n    </tr>\n  </tbody>\n</table>\n</div>"
     },
     "execution_count": 329,
     "metadata": {},
     "output_type": "execute_result"
    }
   ],
   "source": [
    "import pandas as pd\n",
    "import numpy as np\n",
    "import re\n",
    "from sklearn.pipeline import Pipeline\n",
    "from sklearn.impute import SimpleImputer\n",
    "from sklearn.preprocessing import StandardScaler, OneHotEncoder, FunctionTransformer\n",
    "from sklearn.feature_selection import SelectKBest, f_regression\n",
    "from sklearn.ensemble import RandomForestRegressor\n",
    "from sklearn.compose import ColumnTransformer\n",
    "from sklearn.model_selection import train_test_split\n",
    "from sklearn.metrics import mean_absolute_error, mean_squared_error, accuracy_score\n",
    "\n",
    "# Step 1: Load and preprocess the data\n",
    "data = pd.read_csv('data.csv')\n",
    "# new row : death toll unknown\n",
    "data['Is death toll unknown'] = data['Death toll (estimate)'].apply(lambda x: 1 if (isinstance(x, str) and len(x) >= 7 and x[:7] == 'Unknown') else 0)\n",
    "# new row : BC/AD\n",
    "data['BC/AD'] = df['Date'].apply(lambda x: 'BC' if x[-2:] == 'BC' else 'AD')\n",
    "#Disease category\n",
    "data['Disease Category'] = data['Disease'].apply(map_disease_category)\n",
    "# convert to numeric\n",
    "data = convert_string_values_to_int(data, 'Death toll (estimate)')\n",
    "data = replace_with_mean_ignore(data, 'Death toll (estimate)')\n",
    "data.head(50)"
   ],
   "metadata": {
    "collapsed": false
   }
  },
  {
   "cell_type": "code",
   "execution_count": 330,
   "outputs": [
    {
     "data": {
      "text/plain": "   Death toll (estimate)           Death Toll Class\n0                1320837  Class 6: 1000000-10000000\n1                  80000      Class 4: 10000-100000\n2                1320837  Class 6: 1000000-10000000\n3                7500000  Class 6: 1000000-10000000\n4                1320837  Class 6: 1000000-10000000\n5                 310000    Class 5: 100000-1000000\n6               58000000         Class 7: >10000000\n7                1320837  Class 6: 1000000-10000000\n8                  25000      Class 4: 10000-100000\n9                  25000      Class 4: 10000-100000",
      "text/html": "<div>\n<style scoped>\n    .dataframe tbody tr th:only-of-type {\n        vertical-align: middle;\n    }\n\n    .dataframe tbody tr th {\n        vertical-align: top;\n    }\n\n    .dataframe thead th {\n        text-align: right;\n    }\n</style>\n<table border=\"1\" class=\"dataframe\">\n  <thead>\n    <tr style=\"text-align: right;\">\n      <th></th>\n      <th>Death toll (estimate)</th>\n      <th>Death Toll Class</th>\n    </tr>\n  </thead>\n  <tbody>\n    <tr>\n      <th>0</th>\n      <td>1320837</td>\n      <td>Class 6: 1000000-10000000</td>\n    </tr>\n    <tr>\n      <th>1</th>\n      <td>80000</td>\n      <td>Class 4: 10000-100000</td>\n    </tr>\n    <tr>\n      <th>2</th>\n      <td>1320837</td>\n      <td>Class 6: 1000000-10000000</td>\n    </tr>\n    <tr>\n      <th>3</th>\n      <td>7500000</td>\n      <td>Class 6: 1000000-10000000</td>\n    </tr>\n    <tr>\n      <th>4</th>\n      <td>1320837</td>\n      <td>Class 6: 1000000-10000000</td>\n    </tr>\n    <tr>\n      <th>5</th>\n      <td>310000</td>\n      <td>Class 5: 100000-1000000</td>\n    </tr>\n    <tr>\n      <th>6</th>\n      <td>58000000</td>\n      <td>Class 7: &gt;10000000</td>\n    </tr>\n    <tr>\n      <th>7</th>\n      <td>1320837</td>\n      <td>Class 6: 1000000-10000000</td>\n    </tr>\n    <tr>\n      <th>8</th>\n      <td>25000</td>\n      <td>Class 4: 10000-100000</td>\n    </tr>\n    <tr>\n      <th>9</th>\n      <td>25000</td>\n      <td>Class 4: 10000-100000</td>\n    </tr>\n  </tbody>\n</table>\n</div>"
     },
     "execution_count": 330,
     "metadata": {},
     "output_type": "execute_result"
    }
   ],
   "source": [
    "# Define the class thresholds\n",
    "thresholds = [0, 100, 1000, 10000, 100000, 1000000, 10000000]\n",
    "\n",
    "# Assign classes to the death toll values\n",
    "def assign_class(value):\n",
    "    for i in range(len(thresholds) - 1):\n",
    "        if thresholds[i] <= value < thresholds[i + 1]:\n",
    "            return f\"Class {i + 1}: {thresholds[i]}-{thresholds[i + 1]}\"\n",
    "    return f\"Class {len(thresholds)}: >{thresholds[-1]}\"\n",
    "\n",
    "# Apply the class assignment to the 'Death Toll' column\n",
    "data['Death Toll Class'] = data['Death toll (estimate)'].map(assign_class)\n",
    "\n",
    "# Compare the original and new columns\n",
    "data[['Death toll (estimate)', 'Death Toll Class']].head(10)\n",
    "\n"
   ],
   "metadata": {
    "collapsed": false
   }
  },
  {
   "cell_type": "code",
   "execution_count": 331,
   "outputs": [
    {
     "data": {
      "text/plain": "CategoricalDtype(categories=['Class 1: 0-100', 'Class 2: 100-1000', 'Class 3: 1000-10000',\n                  'Class 4: 10000-100000', 'Class 5: 100000-1000000',\n                  'Class 6: 1000000-10000000', 'Class 7: >10000000'],\n, ordered=False)"
     },
     "execution_count": 331,
     "metadata": {},
     "output_type": "execute_result"
    }
   ],
   "source": [
    "# Convert 'Death Toll Class' to categorical\n",
    "data['Death Toll Class'] = data['Death Toll Class'].astype('category')\n",
    "data['Death Toll Class'].dtype"
   ],
   "metadata": {
    "collapsed": false
   }
  },
  {
   "cell_type": "code",
   "execution_count": 332,
   "outputs": [
    {
     "data": {
      "text/plain": "Death Toll Class\nClass 4: 10000-100000        50\nClass 6: 1000000-10000000    50\nClass 2: 100-1000            47\nClass 3: 1000-10000          43\nClass 1: 0-100               38\nClass 5: 100000-1000000      20\nClass 7: >10000000            5\nName: count, dtype: int64"
     },
     "execution_count": 332,
     "metadata": {},
     "output_type": "execute_result"
    }
   ],
   "source": [
    "#the unique values in the 'Death Toll Class' column and their counts\n",
    "data['Death Toll Class'].value_counts()"
   ],
   "metadata": {
    "collapsed": false
   }
  },
  {
   "cell_type": "code",
   "execution_count": 333,
   "outputs": [
    {
     "data": {
      "text/plain": "          Date                    Location   \n38   1647–1652                       Spain  \\\n143  1918–1922                      Russia   \n84   1812–1819              Ottoman Empire   \n55   1710–1712  Denmark, Sweden, Lithuania   \n217       2011                    Pakistan   \n104  1846–1860                   Worldwide   \n139  1910–1911                       China   \n127  1889–1890                   Worldwide   \n60   1732–1733           Thirteen Colonies   \n101  1847–1848                   Worldwide   \n\n                                               Disease  Is death toll unknown   \n38                                      Bubonic plague                      0  \\\n143                                             Typhus                      0   \n84                                      Bubonic plague                      0   \n55                                      Bubonic plague                      0   \n217                                       Dengue fever                      0   \n104                                            Cholera                      0   \n139                                   Pneumonic plague                      0   \n127  Influenza or Human coronavirus OC43 / HCoV-OC4...                      0   \n60                                           Influenza                      1   \n101                                          Influenza                      1   \n\n    BC/AD Disease Category  \n38     AD           Plague  \n143    AD           Typhus  \n84     AD           Plague  \n55     AD           Plague  \n217    AD     Dengue fever  \n104    AD          Cholera  \n139    AD           Plague  \n127    AD            Other  \n60     AD        Influenza  \n101    AD        Influenza  ",
      "text/html": "<div>\n<style scoped>\n    .dataframe tbody tr th:only-of-type {\n        vertical-align: middle;\n    }\n\n    .dataframe tbody tr th {\n        vertical-align: top;\n    }\n\n    .dataframe thead th {\n        text-align: right;\n    }\n</style>\n<table border=\"1\" class=\"dataframe\">\n  <thead>\n    <tr style=\"text-align: right;\">\n      <th></th>\n      <th>Date</th>\n      <th>Location</th>\n      <th>Disease</th>\n      <th>Is death toll unknown</th>\n      <th>BC/AD</th>\n      <th>Disease Category</th>\n    </tr>\n  </thead>\n  <tbody>\n    <tr>\n      <th>38</th>\n      <td>1647–1652</td>\n      <td>Spain</td>\n      <td>Bubonic plague</td>\n      <td>0</td>\n      <td>AD</td>\n      <td>Plague</td>\n    </tr>\n    <tr>\n      <th>143</th>\n      <td>1918–1922</td>\n      <td>Russia</td>\n      <td>Typhus</td>\n      <td>0</td>\n      <td>AD</td>\n      <td>Typhus</td>\n    </tr>\n    <tr>\n      <th>84</th>\n      <td>1812–1819</td>\n      <td>Ottoman Empire</td>\n      <td>Bubonic plague</td>\n      <td>0</td>\n      <td>AD</td>\n      <td>Plague</td>\n    </tr>\n    <tr>\n      <th>55</th>\n      <td>1710–1712</td>\n      <td>Denmark, Sweden, Lithuania</td>\n      <td>Bubonic plague</td>\n      <td>0</td>\n      <td>AD</td>\n      <td>Plague</td>\n    </tr>\n    <tr>\n      <th>217</th>\n      <td>2011</td>\n      <td>Pakistan</td>\n      <td>Dengue fever</td>\n      <td>0</td>\n      <td>AD</td>\n      <td>Dengue fever</td>\n    </tr>\n    <tr>\n      <th>104</th>\n      <td>1846–1860</td>\n      <td>Worldwide</td>\n      <td>Cholera</td>\n      <td>0</td>\n      <td>AD</td>\n      <td>Cholera</td>\n    </tr>\n    <tr>\n      <th>139</th>\n      <td>1910–1911</td>\n      <td>China</td>\n      <td>Pneumonic plague</td>\n      <td>0</td>\n      <td>AD</td>\n      <td>Plague</td>\n    </tr>\n    <tr>\n      <th>127</th>\n      <td>1889–1890</td>\n      <td>Worldwide</td>\n      <td>Influenza or Human coronavirus OC43 / HCoV-OC4...</td>\n      <td>0</td>\n      <td>AD</td>\n      <td>Other</td>\n    </tr>\n    <tr>\n      <th>60</th>\n      <td>1732–1733</td>\n      <td>Thirteen Colonies</td>\n      <td>Influenza</td>\n      <td>1</td>\n      <td>AD</td>\n      <td>Influenza</td>\n    </tr>\n    <tr>\n      <th>101</th>\n      <td>1847–1848</td>\n      <td>Worldwide</td>\n      <td>Influenza</td>\n      <td>1</td>\n      <td>AD</td>\n      <td>Influenza</td>\n    </tr>\n  </tbody>\n</table>\n</div>"
     },
     "execution_count": 333,
     "metadata": {},
     "output_type": "execute_result"
    }
   ],
   "source": [
    "# Identify X (features) and y (target variable)\n",
    "X = data.drop(['Death toll (estimate)', 'Ref.', 'Unnamed: 0', 'Death Toll Class', 'Event' ], axis=1)\n",
    "y = data['Death Toll Class']\n",
    "\n",
    "# Split the data into training and testing sets\n",
    "X_train, X_test, y_train, y_test = train_test_split(X, y, test_size=0.2, random_state=42)\n",
    "\n",
    "X_train.head(10)"
   ],
   "metadata": {
    "collapsed": false
   }
  },
  {
   "cell_type": "code",
   "execution_count": 334,
   "outputs": [
    {
     "data": {
      "text/plain": "['Class 5: 100000-1000000', 'Class 6: 1000000-10000000', 'Class 5: 100000-1000000', 'Class 5: 100000-1000000', 'Class 2: 100-1000', ..., 'Class 3: 1000-10000', 'Class 7: >10000000', 'Class 4: 10000-100000', 'Class 2: 100-1000', 'Class 4: 10000-100000']\nLength: 202\nCategories (7, object): ['Class 1: 0-100', 'Class 2: 100-1000', 'Class 3: 1000-10000', 'Class 4: 10000-100000', 'Class 5: 100000-1000000', 'Class 6: 1000000-10000000', 'Class 7: >10000000']"
     },
     "execution_count": 334,
     "metadata": {},
     "output_type": "execute_result"
    }
   ],
   "source": [
    "y_train.values"
   ],
   "metadata": {
    "collapsed": false
   }
  },
  {
   "cell_type": "code",
   "execution_count": 335,
   "outputs": [],
   "source": [
    "from sklearn.ensemble import RandomForestClassifier\n",
    "import xgboost as xgb\n",
    "from sklearn.preprocessing import StandardScaler\n",
    "from sklearn.compose import TransformedTargetRegressor\n",
    "from sklearn.pipeline import Pipeline\n",
    "from sklearn.preprocessing import FunctionTransformer\n",
    "from sklearn.impute import SimpleImputer\n",
    "from sklearn.preprocessing import OneHotEncoder\n",
    "from sklearn.compose import ColumnTransformer\n",
    "from sklearn.feature_selection import SelectKBest, f_regression\n",
    "from sklearn.preprocessing import LabelEncoder\n",
    "\n",
    "# Define the preprocessing steps\n",
    "categorical_features = [ 'Location', 'Disease', 'BC/AD', 'Disease Category']\n",
    "\n",
    "def custom_transformer(X):\n",
    "    # Function to extract the numeric year from a date string\n",
    "    def extract_numeric_year(date):\n",
    "        date = str(date)\n",
    "        if '-' in date or 'BC' in date or '–' in date:\n",
    "            newdate = ''.join(filter(str.isdigit, date))\n",
    "            if '-' in date:\n",
    "                newdate = date.split('-')[0]\n",
    "            if '–' in date:\n",
    "                newdate = date.split('–')[0]\n",
    "            if 'BC' in date:\n",
    "                newdate = \"-\" + newdate\n",
    "            return newdate\n",
    "        else:\n",
    "            return date\n",
    "\n",
    "    # Apply the extract_numeric_year function element-wise to the 'Date' column\n",
    "    X_transformed = X['Date'].apply(extract_numeric_year)\n",
    "\n",
    "    X['Date'] = X_transformed\n",
    "    return X\n",
    "\n",
    "custom_transformer = FunctionTransformer(custom_transformer)\n",
    "\n",
    "categorical_transformer = Pipeline(steps=[\n",
    "    ('imputer', SimpleImputer(strategy='most_frequent')),\n",
    "    ('encoder', OneHotEncoder(handle_unknown='ignore'))\n",
    "])\n",
    "\n",
    "preprocessor_X = ColumnTransformer(\n",
    "    transformers=[\n",
    "        ('custom', custom_transformer, ['Date']),\n",
    "        ('cat', categorical_transformer, categorical_features)\n",
    "    ])\n",
    "\n",
    "# Choose an ML model\n",
    "model = RandomForestClassifier(n_estimators=100, max_depth=10, random_state=42)\n",
    "\n",
    "# Create the pipeline\n",
    "pipeline = Pipeline(steps=[\n",
    "    ('preprocessor_X', preprocessor_X),\n",
    "    ('model', model)\n",
    "])\n"
   ],
   "metadata": {
    "collapsed": false
   }
  },
  {
   "cell_type": "code",
   "execution_count": 336,
   "outputs": [],
   "source": [
    "# Fit the pipeline on the training data\n",
    "pipeline.fit(X_train, y_train)\n",
    "\n",
    "# Step 5: Make predictions and evaluate accuracy scores\n",
    "y_pred = pipeline.predict(X_test)"
   ],
   "metadata": {
    "collapsed": false
   }
  },
  {
   "cell_type": "code",
   "execution_count": 337,
   "outputs": [
    {
     "data": {
      "text/plain": "array([['Class 1: 0-100', 'Class 1: 0-100'],\n       ['Class 7: >10000000', 'Class 4: 10000-100000'],\n       ['Class 3: 1000-10000', 'Class 3: 1000-10000'],\n       ['Class 2: 100-1000', 'Class 3: 1000-10000'],\n       ['Class 2: 100-1000', 'Class 6: 1000000-10000000'],\n       ['Class 1: 0-100', 'Class 2: 100-1000'],\n       ['Class 1: 0-100', 'Class 1: 0-100'],\n       ['Class 1: 0-100', 'Class 2: 100-1000'],\n       ['Class 4: 10000-100000', 'Class 6: 1000000-10000000'],\n       ['Class 4: 10000-100000', 'Class 4: 10000-100000'],\n       ['Class 2: 100-1000', 'Class 6: 1000000-10000000'],\n       ['Class 2: 100-1000', 'Class 2: 100-1000'],\n       ['Class 1: 0-100', 'Class 3: 1000-10000'],\n       ['Class 4: 10000-100000', 'Class 2: 100-1000'],\n       ['Class 3: 1000-10000', 'Class 6: 1000000-10000000'],\n       ['Class 2: 100-1000', 'Class 6: 1000000-10000000'],\n       ['Class 2: 100-1000', 'Class 1: 0-100'],\n       ['Class 4: 10000-100000', 'Class 6: 1000000-10000000'],\n       ['Class 6: 1000000-10000000', 'Class 4: 10000-100000'],\n       ['Class 3: 1000-10000', 'Class 4: 10000-100000'],\n       ['Class 1: 0-100', 'Class 2: 100-1000'],\n       ['Class 6: 1000000-10000000', 'Class 6: 1000000-10000000'],\n       ['Class 4: 10000-100000', 'Class 6: 1000000-10000000'],\n       ['Class 6: 1000000-10000000', 'Class 6: 1000000-10000000'],\n       ['Class 4: 10000-100000', 'Class 4: 10000-100000'],\n       ['Class 4: 10000-100000', 'Class 3: 1000-10000'],\n       ['Class 1: 0-100', 'Class 6: 1000000-10000000'],\n       ['Class 2: 100-1000', 'Class 2: 100-1000'],\n       ['Class 6: 1000000-10000000', 'Class 4: 10000-100000'],\n       ['Class 2: 100-1000', 'Class 2: 100-1000'],\n       ['Class 1: 0-100', 'Class 1: 0-100'],\n       ['Class 4: 10000-100000', 'Class 6: 1000000-10000000'],\n       ['Class 1: 0-100', 'Class 2: 100-1000'],\n       ['Class 1: 0-100', 'Class 2: 100-1000'],\n       ['Class 1: 0-100', 'Class 1: 0-100'],\n       ['Class 6: 1000000-10000000', 'Class 6: 1000000-10000000'],\n       ['Class 4: 10000-100000', 'Class 4: 10000-100000'],\n       ['Class 6: 1000000-10000000', 'Class 6: 1000000-10000000'],\n       ['Class 4: 10000-100000', 'Class 6: 1000000-10000000'],\n       ['Class 1: 0-100', 'Class 2: 100-1000'],\n       ['Class 2: 100-1000', 'Class 2: 100-1000'],\n       ['Class 4: 10000-100000', 'Class 2: 100-1000'],\n       ['Class 3: 1000-10000', 'Class 2: 100-1000'],\n       ['Class 1: 0-100', 'Class 2: 100-1000'],\n       ['Class 6: 1000000-10000000', 'Class 5: 100000-1000000'],\n       ['Class 4: 10000-100000', 'Class 4: 10000-100000'],\n       ['Class 4: 10000-100000', 'Class 4: 10000-100000'],\n       ['Class 6: 1000000-10000000', 'Class 6: 1000000-10000000'],\n       ['Class 1: 0-100', 'Class 2: 100-1000'],\n       ['Class 1: 0-100', 'Class 2: 100-1000'],\n       ['Class 2: 100-1000', 'Class 1: 0-100']], dtype=object)"
     },
     "execution_count": 337,
     "metadata": {},
     "output_type": "execute_result"
    }
   ],
   "source": [
    "#compare the predictions and the actual values\n",
    "results = pd.DataFrame({'Actual': y_test, 'Predicted': y_pred})\n",
    "results.values"
   ],
   "metadata": {
    "collapsed": false
   }
  },
  {
   "cell_type": "code",
   "execution_count": 338,
   "outputs": [
    {
     "name": "stdout",
     "output_type": "stream",
     "text": [
      "Accuracy: 0.37254901960784315\n"
     ]
    }
   ],
   "source": [
    "# Calculate the accuracy score\n",
    "accuracy = accuracy_score(y_test, y_pred)\n",
    "print(f\"Accuracy: {accuracy}\")"
   ],
   "metadata": {
    "collapsed": false
   }
  },
  {
   "cell_type": "code",
   "execution_count": 339,
   "outputs": [
    {
     "data": {
      "text/plain": "<Figure size 640x480 with 2 Axes>",
      "image/png": "[encoded data removed]"
     },
     "metadata": {},
     "output_type": "display_data"
    }
   ],
   "source": [
    "from sklearn.metrics import confusion_matrix\n",
    "import matplotlib.pyplot as plt\n",
    "import seaborn as sns\n",
    "# Predict the labels for the test data\n",
    "y_pred = pipeline.predict(X_test)\n",
    "\n",
    "# Get the unique class labels\n",
    "class_labels = y_train.unique()\n",
    "\n",
    "# Compute and display the confusion matrix\n",
    "cm = confusion_matrix(y_test, y_pred, labels=class_labels)\n",
    "\n",
    "# Plot the confusion matrix with class labels\n",
    "sns.heatmap(cm, annot=True, xticklabels=class_labels, yticklabels=class_labels)\n",
    "plt.show()"
   ],
   "metadata": {
    "collapsed": false
   }
  },
  {
   "cell_type": "code",
   "execution_count": 340,
   "outputs": [
    {
     "name": "stdout",
     "output_type": "stream",
     "text": [
      "                           precision    recall  f1-score   support\n",
      "\n",
      "           Class 1: 0-100       0.67      0.27      0.38        15\n",
      "        Class 2: 100-1000       0.25      0.40      0.31        10\n",
      "      Class 3: 1000-10000       0.25      0.25      0.25         4\n",
      "    Class 4: 10000-100000       0.56      0.38      0.45        13\n",
      "  Class 5: 100000-1000000       0.00      1.00      0.00         0\n",
      "Class 6: 1000000-10000000       0.33      0.62      0.43         8\n",
      "       Class 7: >10000000       1.00      0.00      0.00         1\n",
      "\n",
      "                 accuracy                           0.37        51\n",
      "                macro avg       0.44      0.42      0.26        51\n",
      "             weighted avg       0.48      0.37      0.38        51\n",
      "\n"
     ]
    }
   ],
   "source": [
    "from sklearn.metrics import classification_report\n",
    "\n",
    "# Assuming you have separate X_test and y_test data\n",
    "y_pred = pipeline.predict(X_test)\n",
    "report = classification_report(y_test, y_pred, zero_division=1)\n",
    "\n",
    "print(report)\n"
   ],
   "metadata": {
    "collapsed": false
   }
  },
  {
   "cell_type": "markdown",
   "source": [
    "the feature importances"
   ],
   "metadata": {
    "collapsed": false
   }
  },
  {
   "cell_type": "code",
   "execution_count": 341,
   "outputs": [
    {
     "name": "stdout",
     "output_type": "stream",
     "text": [
      "Feature: Date, Score: 0.20351\n",
      "Feature: Location, Score: 0.00075\n",
      "Feature: Disease, Score: 0.00113\n",
      "Feature: Is death toll unknown, Score: 0.00050\n",
      "Feature: BC/AD, Score: 0.00332\n",
      "Feature: Disease Category, Score: 0.00374\n"
     ]
    }
   ],
   "source": [
    "# Get feature importances from our random forest model\n",
    "importances = pipeline.named_steps['model'].feature_importances_\n",
    "\n",
    "# Get the first 7 feature importances and their corresponding column names\n",
    "top_features = zip(X_train.columns[:7], importances[:7])\n",
    "\n",
    "# Summarize feature importance\n",
    "for feature, importance in top_features:\n",
    "    print('Feature: %s, Score: %.5f' % (feature, importance))"
   ],
   "metadata": {
    "collapsed": false
   }
  }
 ],
 "metadata": {
  "kernelspec": {
   "display_name": "Python 3",
   "language": "python",
   "name": "python3"
  },
  "language_info": {
   "codemirror_mode": {
    "name": "ipython",
    "version": 2
   },
   "file_extension": ".py",
   "mimetype": "text/x-python",
   "name": "python",
   "nbconvert_exporter": "python",
   "pygments_lexer": "ipython2",
   "version": "2.7.6"
  }
 },
 "nbformat": 4,
 "nbformat_minor": 0
}
