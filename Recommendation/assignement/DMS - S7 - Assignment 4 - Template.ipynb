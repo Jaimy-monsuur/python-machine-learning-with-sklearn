{
 "cells": [
  {
   "cell_type": "markdown",
   "metadata": {},
   "source": [
    "**this is a template notebook for Assignment 4 on Recommendation. To get a 60 you will need to complete chapter 1.\n",
    "    The template is also just an indication. You can add more cells if needed, and can of course delete this line**"
   ]
  },
  {
   "cell_type": "markdown",
   "metadata": {},
   "source": [
    "# <span style ='background:yellow'>\\<Book recommendations>\n",
    "Author: <span style='background:yellow'>\\<Jaimy Monsuur\\></span><br>\n",
    "Student number: <span style='background:yellow'>\\<668040\\></span><br>\n",
    "Date: <span style='background:yellow'>\\<12/04/2023\\></span>"
   ]
  },
  {
   "cell_type": "markdown",
   "metadata": {},
   "source": [
    "For this notebook to work you must have installed the following packages (usually via pip install *packageName*:\n",
    "* numpy\n",
    "* pandas\n",
    "* **\\<add other packages\\>**\n",
    "\n",
    "From these we will need the following libraries:"
   ]
  },
  {
   "cell_type": "code",
   "execution_count": 1,
   "metadata": {},
   "outputs": [
    {
     "name": "stdout",
     "output_type": "stream",
     "text": [
      "NumPy already installed, only imported\n",
      "pandas already installed, only imported\n"
     ]
    }
   ],
   "source": [
    "# enter here all those 'from .... import ....'\n",
    "# numpy as np\n",
    "try:\n",
    "    import numpy as np\n",
    "    print('NumPy already installed, only imported')\n",
    "except:\n",
    "    !pip install numpy\n",
    "    import numpy as np\n",
    "    print('NumPy was not installed, installed and imported')\n",
    "\n",
    "# pandas as pd\n",
    "try:\n",
    "    import pandas as pd\n",
    "    print('pandas already installed, only imported')\n",
    "except:\n",
    "    !pip install pandas\n",
    "    import pandas as pd\n",
    "    print('pandas was not installed, installed and imported')\n",
    "\n",
    "# matplotlib\n",
    "try:\n",
    "    import matplotlib\n",
    "    print('matplotlib already installed, only imported')\n",
    "except:\n",
    "    !pip install matplotlib\n",
    "    import matplotlib\n",
    "    print('matplotlib was not installed, installed and imported')"
   ]
  },
  {
   "cell_type": "markdown",
   "metadata": {},
   "source": [
    "# 1. The Item-Based Recommender\n",
    "\n",
    "We are going to build an item-based recommender for **<span style='background:yellow'>\\<Books></span>**. In this recommender we could for example **<span style='background:yellow'>\\<give a brief description of an example how your recommender would work></span>**.\n",
    "\n",
    "the recomender will work by merging my two datasets: BX-books and BX-book-ratings,then it will create a separate list that contains the books and the number of ratings that they have. Then i will make a pivot table.\n",
    "\n",
    "the last step would be to calculate the correlation between a given book and then make a recommendation for the given book.\n",
    "\n",
    "Correlation refers to the statistical relationship between two variables. When two variables are correlated, it means that there is a connection or pattern between them. We can use a positive correlation to make a recommendation because it means that the two variables are moving in the same direction. If the correlation is negative, it means that the two variables are moving in opposite directions so we cant use it to recommend a book. but we could use it to give a negative recommendation. it could be to discourage a book based on on the fact that it is not similar to a book they liked before.\n",
    "\n",
    "To begin we'll need to load some data."
   ]
  },
  {
   "cell_type": "code",
   "execution_count": 2,
   "metadata": {},
   "outputs": [
    {
     "name": "stderr",
     "output_type": "stream",
     "text": [
      "C:\\Users\\jaimy\\AppData\\Local\\Temp\\ipykernel_29248\\3373478872.py:2: FutureWarning: The error_bad_lines argument has been deprecated and will be removed in a future version. Use on_bad_lines in the future.\n",
      "\n",
      "\n",
      "  ratings = pd.read_csv('BX-Book-Ratings.csv', sep=';', encoding='latin-1', error_bad_lines=False, warn_bad_lines=False, low_memory=False)\n",
      "C:\\Users\\jaimy\\AppData\\Local\\Temp\\ipykernel_29248\\3373478872.py:2: FutureWarning: The warn_bad_lines argument has been deprecated and will be removed in a future version. Use on_bad_lines in the future.\n",
      "\n",
      "\n",
      "  ratings = pd.read_csv('BX-Book-Ratings.csv', sep=';', encoding='latin-1', error_bad_lines=False, warn_bad_lines=False, low_memory=False)\n"
     ]
    },
    {
     "data": {
      "text/plain": "   User-ID        ISBN  Book-Rating\n0   276725  034545104X            0\n1   276726  0155061224            5\n2   276727  0446520802            0\n3   276729  052165615X            3\n4   276729  0521795028            6",
      "text/html": "<div>\n<style scoped>\n    .dataframe tbody tr th:only-of-type {\n        vertical-align: middle;\n    }\n\n    .dataframe tbody tr th {\n        vertical-align: top;\n    }\n\n    .dataframe thead th {\n        text-align: right;\n    }\n</style>\n<table border=\"1\" class=\"dataframe\">\n  <thead>\n    <tr style=\"text-align: right;\">\n      <th></th>\n      <th>User-ID</th>\n      <th>ISBN</th>\n      <th>Book-Rating</th>\n    </tr>\n  </thead>\n  <tbody>\n    <tr>\n      <th>0</th>\n      <td>276725</td>\n      <td>034545104X</td>\n      <td>0</td>\n    </tr>\n    <tr>\n      <th>1</th>\n      <td>276726</td>\n      <td>0155061224</td>\n      <td>5</td>\n    </tr>\n    <tr>\n      <th>2</th>\n      <td>276727</td>\n      <td>0446520802</td>\n      <td>0</td>\n    </tr>\n    <tr>\n      <th>3</th>\n      <td>276729</td>\n      <td>052165615X</td>\n      <td>3</td>\n    </tr>\n    <tr>\n      <th>4</th>\n      <td>276729</td>\n      <td>0521795028</td>\n      <td>6</td>\n    </tr>\n  </tbody>\n</table>\n</div>"
     },
     "execution_count": 2,
     "metadata": {},
     "output_type": "execute_result"
    }
   ],
   "source": [
    "# enter code to load your example data file(s)\n",
    "ratings = pd.read_csv('BX-Book-Ratings.csv', sep=';', encoding='latin-1', error_bad_lines=False, warn_bad_lines=False, low_memory=False)\n",
    "ratings.head()\n"
   ]
  },
  {
   "cell_type": "code",
   "execution_count": 3,
   "outputs": [
    {
     "name": "stderr",
     "output_type": "stream",
     "text": [
      "C:\\Users\\jaimy\\AppData\\Local\\Temp\\ipykernel_29248\\2975918476.py:1: FutureWarning: The error_bad_lines argument has been deprecated and will be removed in a future version. Use on_bad_lines in the future.\n",
      "\n",
      "\n",
      "  books = pd.read_csv('BX-Books.csv', sep=';', encoding='latin-1', error_bad_lines=False, warn_bad_lines=False, low_memory=False)\n",
      "C:\\Users\\jaimy\\AppData\\Local\\Temp\\ipykernel_29248\\2975918476.py:1: FutureWarning: The warn_bad_lines argument has been deprecated and will be removed in a future version. Use on_bad_lines in the future.\n",
      "\n",
      "\n",
      "  books = pd.read_csv('BX-Books.csv', sep=';', encoding='latin-1', error_bad_lines=False, warn_bad_lines=False, low_memory=False)\n"
     ]
    },
    {
     "data": {
      "text/plain": "         ISBN                                         Book-Title  \\\n0  0195153448                                Classical Mythology   \n1  0002005018                                       Clara Callan   \n2  0060973129                               Decision in Normandy   \n3  0374157065  Flu: The Story of the Great Influenza Pandemic...   \n4  0393045218                             The Mummies of Urumchi   \n\n            Book-Author Year-Of-Publication                   Publisher  \\\n0    Mark P. O. Morford                2002     Oxford University Press   \n1  Richard Bruce Wright                2001       HarperFlamingo Canada   \n2          Carlo D'Este                1991             HarperPerennial   \n3      Gina Bari Kolata                1999        Farrar Straus Giroux   \n4       E. J. W. Barber                1999  W. W. Norton &amp; Company   \n\n                                         Image-URL-S  \\\n0  http://images.amazon.com/images/P/0195153448.0...   \n1  http://images.amazon.com/images/P/0002005018.0...   \n2  http://images.amazon.com/images/P/0060973129.0...   \n3  http://images.amazon.com/images/P/0374157065.0...   \n4  http://images.amazon.com/images/P/0393045218.0...   \n\n                                         Image-URL-M  \\\n0  http://images.amazon.com/images/P/0195153448.0...   \n1  http://images.amazon.com/images/P/0002005018.0...   \n2  http://images.amazon.com/images/P/0060973129.0...   \n3  http://images.amazon.com/images/P/0374157065.0...   \n4  http://images.amazon.com/images/P/0393045218.0...   \n\n                                         Image-URL-L  \n0  http://images.amazon.com/images/P/0195153448.0...  \n1  http://images.amazon.com/images/P/0002005018.0...  \n2  http://images.amazon.com/images/P/0060973129.0...  \n3  http://images.amazon.com/images/P/0374157065.0...  \n4  http://images.amazon.com/images/P/0393045218.0...  ",
      "text/html": "<div>\n<style scoped>\n    .dataframe tbody tr th:only-of-type {\n        vertical-align: middle;\n    }\n\n    .dataframe tbody tr th {\n        vertical-align: top;\n    }\n\n    .dataframe thead th {\n        text-align: right;\n    }\n</style>\n<table border=\"1\" class=\"dataframe\">\n  <thead>\n    <tr style=\"text-align: right;\">\n      <th></th>\n      <th>ISBN</th>\n      <th>Book-Title</th>\n      <th>Book-Author</th>\n      <th>Year-Of-Publication</th>\n      <th>Publisher</th>\n      <th>Image-URL-S</th>\n      <th>Image-URL-M</th>\n      <th>Image-URL-L</th>\n    </tr>\n  </thead>\n  <tbody>\n    <tr>\n      <th>0</th>\n      <td>0195153448</td>\n      <td>Classical Mythology</td>\n      <td>Mark P. O. Morford</td>\n      <td>2002</td>\n      <td>Oxford University Press</td>\n      <td>http://images.amazon.com/images/P/0195153448.0...</td>\n      <td>http://images.amazon.com/images/P/0195153448.0...</td>\n      <td>http://images.amazon.com/images/P/0195153448.0...</td>\n    </tr>\n    <tr>\n      <th>1</th>\n      <td>0002005018</td>\n      <td>Clara Callan</td>\n      <td>Richard Bruce Wright</td>\n      <td>2001</td>\n      <td>HarperFlamingo Canada</td>\n      <td>http://images.amazon.com/images/P/0002005018.0...</td>\n      <td>http://images.amazon.com/images/P/0002005018.0...</td>\n      <td>http://images.amazon.com/images/P/0002005018.0...</td>\n    </tr>\n    <tr>\n      <th>2</th>\n      <td>0060973129</td>\n      <td>Decision in Normandy</td>\n      <td>Carlo D'Este</td>\n      <td>1991</td>\n      <td>HarperPerennial</td>\n      <td>http://images.amazon.com/images/P/0060973129.0...</td>\n      <td>http://images.amazon.com/images/P/0060973129.0...</td>\n      <td>http://images.amazon.com/images/P/0060973129.0...</td>\n    </tr>\n    <tr>\n      <th>3</th>\n      <td>0374157065</td>\n      <td>Flu: The Story of the Great Influenza Pandemic...</td>\n      <td>Gina Bari Kolata</td>\n      <td>1999</td>\n      <td>Farrar Straus Giroux</td>\n      <td>http://images.amazon.com/images/P/0374157065.0...</td>\n      <td>http://images.amazon.com/images/P/0374157065.0...</td>\n      <td>http://images.amazon.com/images/P/0374157065.0...</td>\n    </tr>\n    <tr>\n      <th>4</th>\n      <td>0393045218</td>\n      <td>The Mummies of Urumchi</td>\n      <td>E. J. W. Barber</td>\n      <td>1999</td>\n      <td>W. W. Norton &amp;amp; Company</td>\n      <td>http://images.amazon.com/images/P/0393045218.0...</td>\n      <td>http://images.amazon.com/images/P/0393045218.0...</td>\n      <td>http://images.amazon.com/images/P/0393045218.0...</td>\n    </tr>\n  </tbody>\n</table>\n</div>"
     },
     "execution_count": 3,
     "metadata": {},
     "output_type": "execute_result"
    }
   ],
   "source": [
    "books = pd.read_csv('BX-Books.csv', sep=';', encoding='latin-1', error_bad_lines=False, warn_bad_lines=False, low_memory=False)\n",
    "books.head()"
   ],
   "metadata": {
    "collapsed": false
   }
  },
  {
   "cell_type": "markdown",
   "metadata": {},
   "source": [
    "**<span style='background:yellow'>\\<explain a bit about the data file(s), if you have multiple and need to merge them, use the code cell below></span>**\n",
    "\n",
    "i have two files with data in them one is a file with ratings of hte books, in contains the user id, the isbn of the book and the rating. The other file contains the isbn of the book, the title, the author and the year of publication. I will merge the two files on the isbn column."
   ]
  },
  {
   "cell_type": "code",
   "execution_count": 4,
   "metadata": {},
   "outputs": [
    {
     "data": {
      "text/plain": "   User-ID        ISBN  Book-Rating            Book-Title Book-Author  \\\n0   276725  034545104X            0  Flesh Tones: A Novel  M. J. Rose   \n1     2313  034545104X            5  Flesh Tones: A Novel  M. J. Rose   \n2     6543  034545104X            0  Flesh Tones: A Novel  M. J. Rose   \n3     8680  034545104X            5  Flesh Tones: A Novel  M. J. Rose   \n4    10314  034545104X            9  Flesh Tones: A Novel  M. J. Rose   \n\n  Year-Of-Publication  \n0                2002  \n1                2002  \n2                2002  \n3                2002  \n4                2002  ",
      "text/html": "<div>\n<style scoped>\n    .dataframe tbody tr th:only-of-type {\n        vertical-align: middle;\n    }\n\n    .dataframe tbody tr th {\n        vertical-align: top;\n    }\n\n    .dataframe thead th {\n        text-align: right;\n    }\n</style>\n<table border=\"1\" class=\"dataframe\">\n  <thead>\n    <tr style=\"text-align: right;\">\n      <th></th>\n      <th>User-ID</th>\n      <th>ISBN</th>\n      <th>Book-Rating</th>\n      <th>Book-Title</th>\n      <th>Book-Author</th>\n      <th>Year-Of-Publication</th>\n    </tr>\n  </thead>\n  <tbody>\n    <tr>\n      <th>0</th>\n      <td>276725</td>\n      <td>034545104X</td>\n      <td>0</td>\n      <td>Flesh Tones: A Novel</td>\n      <td>M. J. Rose</td>\n      <td>2002</td>\n    </tr>\n    <tr>\n      <th>1</th>\n      <td>2313</td>\n      <td>034545104X</td>\n      <td>5</td>\n      <td>Flesh Tones: A Novel</td>\n      <td>M. J. Rose</td>\n      <td>2002</td>\n    </tr>\n    <tr>\n      <th>2</th>\n      <td>6543</td>\n      <td>034545104X</td>\n      <td>0</td>\n      <td>Flesh Tones: A Novel</td>\n      <td>M. J. Rose</td>\n      <td>2002</td>\n    </tr>\n    <tr>\n      <th>3</th>\n      <td>8680</td>\n      <td>034545104X</td>\n      <td>5</td>\n      <td>Flesh Tones: A Novel</td>\n      <td>M. J. Rose</td>\n      <td>2002</td>\n    </tr>\n    <tr>\n      <th>4</th>\n      <td>10314</td>\n      <td>034545104X</td>\n      <td>9</td>\n      <td>Flesh Tones: A Novel</td>\n      <td>M. J. Rose</td>\n      <td>2002</td>\n    </tr>\n  </tbody>\n</table>\n</div>"
     },
     "execution_count": 4,
     "metadata": {},
     "output_type": "execute_result"
    }
   ],
   "source": [
    "# Optional depending on your dataset, enter code to select appropriate columns, and merge the files.\n",
    "ratings = ratings[['User-ID', 'ISBN', 'Book-Rating']]\n",
    "books = books[['ISBN', 'Book-Title', 'Book-Author', 'Year-Of-Publication']]\n",
    "\n",
    "df = pd.merge(ratings, books, on='ISBN')\n",
    "df.head()"
   ]
  },
  {
   "cell_type": "markdown",
   "metadata": {},
   "source": [
    "We need one row per user, and his/her scores for each **<span style='background:yellow'>\\<BOOK></span>**. We can do this by creating a pivot table."
   ]
  },
  {
   "cell_type": "code",
   "execution_count": 39,
   "metadata": {},
   "outputs": [
    {
     "data": {
      "text/plain": "Book-Title  007 El Mundo Nunca Es Suficiente  \\\nUser-ID                                        \n14                                       NaN   \n67                                       NaN   \n99                                       NaN   \n193                                      NaN   \n232                                      NaN   \n\nBook-Title  4000 Vornamen aus aller Welt. Von Alexander bis Zoe.  \\\nUser-ID                                                            \n14                                                        NaN      \n67                                                        NaN      \n99                                                        NaN      \n193                                                       NaN      \n232                                                       NaN      \n\nBook-Title  A Kid's Guide to How to Save the Planet (Camelot world)  \\\nUser-ID                                                               \n14                                                        NaN         \n67                                                        NaN         \n99                                                        NaN         \n193                                                       NaN         \n232                                                       NaN         \n\nBook-Title  A Kiss of Shadows (Meredith Gentry Novels (Paperback))  \\\nUser-ID                                                              \n14                                                        NaN        \n67                                                        NaN        \n99                                                        NaN        \n193                                                       NaN        \n232                                                       NaN        \n\nBook-Title  A Painted House  A String in the Harp  A Wrinkle In Time  \\\nUser-ID                                                                \n14                      NaN                   NaN                NaN   \n67                      NaN                   NaN                NaN   \n99                      NaN                   NaN                NaN   \n193                     NaN                   NaN                NaN   \n232                     NaN                   NaN                NaN   \n\nBook-Title  Adressat unbekannt.  Advanced Photography, Sixth Edition  Alaska  \\\nUser-ID                                                                        \n14                          NaN                                  NaN     NaN   \n67                          NaN                                  NaN     NaN   \n99                          NaN                                  NaN     NaN   \n193                         NaN                                  NaN     NaN   \n232                         NaN                                  NaN     NaN   \n\nBook-Title  ...  Waiting to Exhale  Walk Two Moons  \\\nUser-ID     ...                                      \n14          ...                NaN             NaN   \n67          ...                NaN             NaN   \n99          ...                NaN             NaN   \n193         ...                NaN             NaN   \n232         ...                NaN             NaN   \n\nBook-Title  Was Mir Wichtig War: Letzte Aufzeichnungen Und Gesprache  \\\nUser-ID                                                                \n14                                                        NaN          \n67                                                        NaN          \n99                                                        NaN          \n193                                                       NaN          \n232                                                       NaN          \n\nBook-Title  Wasted : A Memoir of Anorexia and Bulimia  \\\nUser-ID                                                 \n14                                                NaN   \n67                                                NaN   \n99                                                NaN   \n193                                               NaN   \n232                                               NaN   \n\nBook-Title  What's That Pig Outdoors: A Memoir of Deafness  \\\nUser-ID                                                      \n14                                                     NaN   \n67                                                     NaN   \n99                                                     NaN   \n193                                                    NaN   \n232                                                    NaN   \n\nBook-Title  Whirlwind (The X-Files)  Whispers  Wild Animus  Wilt: Tom Sharpe  \\\nUser-ID                                                                        \n14                              NaN       NaN          0.0               NaN   \n67                              NaN       NaN          NaN               NaN   \n99                              NaN       NaN          NaN               NaN   \n193                             NaN       NaN          0.0               NaN   \n232                             NaN       NaN          NaN               NaN   \n\nBook-Title  Â¡No bajes al sÃ³tano! (EscalofrÃ­os No. 2)  \nUser-ID                                                  \n14                                                  NaN  \n67                                                  NaN  \n99                                                  NaN  \n193                                                 NaN  \n232                                                 NaN  \n\n[5 rows x 336 columns]",
      "text/html": "<div>\n<style scoped>\n    .dataframe tbody tr th:only-of-type {\n        vertical-align: middle;\n    }\n\n    .dataframe tbody tr th {\n        vertical-align: top;\n    }\n\n    .dataframe thead th {\n        text-align: right;\n    }\n</style>\n<table border=\"1\" class=\"dataframe\">\n  <thead>\n    <tr style=\"text-align: right;\">\n      <th>Book-Title</th>\n      <th>007 El Mundo Nunca Es Suficiente</th>\n      <th>4000 Vornamen aus aller Welt. Von Alexander bis Zoe.</th>\n      <th>A Kid's Guide to How to Save the Planet (Camelot world)</th>\n      <th>A Kiss of Shadows (Meredith Gentry Novels (Paperback))</th>\n      <th>A Painted House</th>\n      <th>A String in the Harp</th>\n      <th>A Wrinkle In Time</th>\n      <th>Adressat unbekannt.</th>\n      <th>Advanced Photography, Sixth Edition</th>\n      <th>Alaska</th>\n      <th>...</th>\n      <th>Waiting to Exhale</th>\n      <th>Walk Two Moons</th>\n      <th>Was Mir Wichtig War: Letzte Aufzeichnungen Und Gesprache</th>\n      <th>Wasted : A Memoir of Anorexia and Bulimia</th>\n      <th>What's That Pig Outdoors: A Memoir of Deafness</th>\n      <th>Whirlwind (The X-Files)</th>\n      <th>Whispers</th>\n      <th>Wild Animus</th>\n      <th>Wilt: Tom Sharpe</th>\n      <th>Â¡No bajes al sÃ³tano! (EscalofrÃ­os No. 2)</th>\n    </tr>\n    <tr>\n      <th>User-ID</th>\n      <th></th>\n      <th></th>\n      <th></th>\n      <th></th>\n      <th></th>\n      <th></th>\n      <th></th>\n      <th></th>\n      <th></th>\n      <th></th>\n      <th></th>\n      <th></th>\n      <th></th>\n      <th></th>\n      <th></th>\n      <th></th>\n      <th></th>\n      <th></th>\n      <th></th>\n      <th></th>\n      <th></th>\n    </tr>\n  </thead>\n  <tbody>\n    <tr>\n      <th>14</th>\n      <td>NaN</td>\n      <td>NaN</td>\n      <td>NaN</td>\n      <td>NaN</td>\n      <td>NaN</td>\n      <td>NaN</td>\n      <td>NaN</td>\n      <td>NaN</td>\n      <td>NaN</td>\n      <td>NaN</td>\n      <td>...</td>\n      <td>NaN</td>\n      <td>NaN</td>\n      <td>NaN</td>\n      <td>NaN</td>\n      <td>NaN</td>\n      <td>NaN</td>\n      <td>NaN</td>\n      <td>0.0</td>\n      <td>NaN</td>\n      <td>NaN</td>\n    </tr>\n    <tr>\n      <th>67</th>\n      <td>NaN</td>\n      <td>NaN</td>\n      <td>NaN</td>\n      <td>NaN</td>\n      <td>NaN</td>\n      <td>NaN</td>\n      <td>NaN</td>\n      <td>NaN</td>\n      <td>NaN</td>\n      <td>NaN</td>\n      <td>...</td>\n      <td>NaN</td>\n      <td>NaN</td>\n      <td>NaN</td>\n      <td>NaN</td>\n      <td>NaN</td>\n      <td>NaN</td>\n      <td>NaN</td>\n      <td>NaN</td>\n      <td>NaN</td>\n      <td>NaN</td>\n    </tr>\n    <tr>\n      <th>99</th>\n      <td>NaN</td>\n      <td>NaN</td>\n      <td>NaN</td>\n      <td>NaN</td>\n      <td>NaN</td>\n      <td>NaN</td>\n      <td>NaN</td>\n      <td>NaN</td>\n      <td>NaN</td>\n      <td>NaN</td>\n      <td>...</td>\n      <td>NaN</td>\n      <td>NaN</td>\n      <td>NaN</td>\n      <td>NaN</td>\n      <td>NaN</td>\n      <td>NaN</td>\n      <td>NaN</td>\n      <td>NaN</td>\n      <td>NaN</td>\n      <td>NaN</td>\n    </tr>\n    <tr>\n      <th>193</th>\n      <td>NaN</td>\n      <td>NaN</td>\n      <td>NaN</td>\n      <td>NaN</td>\n      <td>NaN</td>\n      <td>NaN</td>\n      <td>NaN</td>\n      <td>NaN</td>\n      <td>NaN</td>\n      <td>NaN</td>\n      <td>...</td>\n      <td>NaN</td>\n      <td>NaN</td>\n      <td>NaN</td>\n      <td>NaN</td>\n      <td>NaN</td>\n      <td>NaN</td>\n      <td>NaN</td>\n      <td>0.0</td>\n      <td>NaN</td>\n      <td>NaN</td>\n    </tr>\n    <tr>\n      <th>232</th>\n      <td>NaN</td>\n      <td>NaN</td>\n      <td>NaN</td>\n      <td>NaN</td>\n      <td>NaN</td>\n      <td>NaN</td>\n      <td>NaN</td>\n      <td>NaN</td>\n      <td>NaN</td>\n      <td>NaN</td>\n      <td>...</td>\n      <td>NaN</td>\n      <td>NaN</td>\n      <td>NaN</td>\n      <td>NaN</td>\n      <td>NaN</td>\n      <td>NaN</td>\n      <td>NaN</td>\n      <td>NaN</td>\n      <td>NaN</td>\n      <td>NaN</td>\n    </tr>\n  </tbody>\n</table>\n<p>5 rows × 336 columns</p>\n</div>"
     },
     "execution_count": 39,
     "metadata": {},
     "output_type": "execute_result"
    }
   ],
   "source": [
    "#the dataset is too big to work with so i will take a sample of 10000\n",
    "df.dropna(inplace=True)\n",
    "df = df.head(10000)\n",
    "\n",
    "# code to create pivot table\n",
    "book_pivot = df.pivot_table(index='User-ID', columns='Book-Title', values='Book-Rating')\n",
    "book_pivot.head()\n"
   ]
  },
  {
   "cell_type": "markdown",
   "metadata": {},
   "source": [
    "We also need to take the counts into consideration so lets keep those into their own dataframe, together with the average score:"
   ]
  },
  {
   "cell_type": "code",
   "execution_count": 40,
   "metadata": {},
   "outputs": [
    {
     "data": {
      "text/plain": "                                                    Book-Rating  nRatings\nBook-Title                                                               \nThe Lovely Bones: A Novel                              4.468726      1295\nThe Da Vinci Code                                      4.652322       883\nThe Joy Luck Club                                      3.063584       519\nWild Animus                                            1.117493       383\nHarry Potter and the Order of the Phoenix (Book 5)     5.571856       334\n...                                                         ...       ...\nIch liebe Dich!: Ein Eisenbahnroman mit 66 Inte...     0.000000         1\nIce Blade: Snow Country (Ice Blade)                    8.000000         1\nHow to Deal With Difficult People                      7.000000         1\nHitlers Kinder.                                        9.000000         1\nÂ¡No bajes al sÃ³tano! (EscalofrÃ­os No. 2)            0.000000         1\n\n[336 rows x 2 columns]",
      "text/html": "<div>\n<style scoped>\n    .dataframe tbody tr th:only-of-type {\n        vertical-align: middle;\n    }\n\n    .dataframe tbody tr th {\n        vertical-align: top;\n    }\n\n    .dataframe thead th {\n        text-align: right;\n    }\n</style>\n<table border=\"1\" class=\"dataframe\">\n  <thead>\n    <tr style=\"text-align: right;\">\n      <th></th>\n      <th>Book-Rating</th>\n      <th>nRatings</th>\n    </tr>\n    <tr>\n      <th>Book-Title</th>\n      <th></th>\n      <th></th>\n    </tr>\n  </thead>\n  <tbody>\n    <tr>\n      <th>The Lovely Bones: A Novel</th>\n      <td>4.468726</td>\n      <td>1295</td>\n    </tr>\n    <tr>\n      <th>The Da Vinci Code</th>\n      <td>4.652322</td>\n      <td>883</td>\n    </tr>\n    <tr>\n      <th>The Joy Luck Club</th>\n      <td>3.063584</td>\n      <td>519</td>\n    </tr>\n    <tr>\n      <th>Wild Animus</th>\n      <td>1.117493</td>\n      <td>383</td>\n    </tr>\n    <tr>\n      <th>Harry Potter and the Order of the Phoenix (Book 5)</th>\n      <td>5.571856</td>\n      <td>334</td>\n    </tr>\n    <tr>\n      <th>...</th>\n      <td>...</td>\n      <td>...</td>\n    </tr>\n    <tr>\n      <th>Ich liebe Dich!: Ein Eisenbahnroman mit 66 Intermezzos</th>\n      <td>0.000000</td>\n      <td>1</td>\n    </tr>\n    <tr>\n      <th>Ice Blade: Snow Country (Ice Blade)</th>\n      <td>8.000000</td>\n      <td>1</td>\n    </tr>\n    <tr>\n      <th>How to Deal With Difficult People</th>\n      <td>7.000000</td>\n      <td>1</td>\n    </tr>\n    <tr>\n      <th>Hitlers Kinder.</th>\n      <td>9.000000</td>\n      <td>1</td>\n    </tr>\n    <tr>\n      <th>Â¡No bajes al sÃ³tano! (EscalofrÃ­os No. 2)</th>\n      <td>0.000000</td>\n      <td>1</td>\n    </tr>\n  </tbody>\n</table>\n<p>336 rows × 2 columns</p>\n</div>"
     },
     "execution_count": 40,
     "metadata": {},
     "output_type": "execute_result"
    }
   ],
   "source": [
    "# code to make a dataframe with the unique objects, their average score and the number of scores\n",
    "ratings_count = pd.DataFrame(df.groupby('Book-Title')['Book-Rating'].mean())\n",
    "ratings_count['nRatings'] = pd.DataFrame(df.groupby('Book-Title')['Book-Rating'].count())\n",
    "ratings_count.sort_values(by=['nRatings'], ascending=False).head(10000)"
   ]
  },
  {
   "cell_type": "markdown",
   "metadata": {},
   "source": [
    "To decide on a cut-off point as minimum number of scores to be eligable we can plot the number of scores in a histogram:"
   ]
  },
  {
   "cell_type": "code",
   "execution_count": 41,
   "metadata": {},
   "outputs": [
    {
     "data": {
      "text/plain": "<Axes: >"
     },
     "execution_count": 41,
     "metadata": {},
     "output_type": "execute_result"
    },
    {
     "data": {
      "text/plain": "<Figure size 640x480 with 1 Axes>",
      "image/png": "[encoded data removed]"
     },
     "metadata": {},
     "output_type": "display_data"
    }
   ],
   "source": [
    "# code to generate the histogram with\n",
    "ratings_count['nRatings'].hist(bins=50)"
   ]
  },
  {
   "cell_type": "markdown",
   "metadata": {},
   "source": [
    "From the histogram we can see that **<span style='background:yellow'>\\<Explain in your own words what you notice and what you decide on as the cut-off point, explain why></span>**\n",
    "\n",
    "well this histogram makes that there are a lot of books with a low number of ratings. this is clear becouse there is a realy large bar netxt to the 0 value. x is the number of ratings and y is the number of books that have that amount of ratings. i think that i will take 75 as the cut off rating, this so that there are still enough books, but none with almost no ratings."
   ]
  },
  {
   "cell_type": "markdown",
   "metadata": {},
   "source": [
    "Finally we can create the code to perform a recommendation. First we can select one particular **<span style='background:yellow'>\\<YOUR OBJECT></span>**"
   ]
  },
  {
   "cell_type": "code",
   "execution_count": 48,
   "metadata": {},
   "outputs": [
    {
     "name": "stderr",
     "output_type": "stream",
     "text": [
      "C:\\Users\\jaimy\\anaconda3\\envs\\stats4\\lib\\site-packages\\numpy\\lib\\function_base.py:2845: RuntimeWarning: Degrees of freedom <= 0 for slice\n",
      "  c = cov(x, y, rowvar, dtype=dtype)\n",
      "C:\\Users\\jaimy\\anaconda3\\envs\\stats4\\lib\\site-packages\\numpy\\lib\\function_base.py:2704: RuntimeWarning: divide by zero encountered in divide\n",
      "  c *= np.true_divide(1, fact)\n"
     ]
    }
   ],
   "source": [
    "# code to select one field\n",
    "corrs = book_pivot.corrwith(book_pivot['The Lovely Bones: A Novel']).sort_values(ascending=False)\n"
   ]
  },
  {
   "cell_type": "markdown",
   "metadata": {},
   "source": [
    "And then to find the recommendation based on the correlations."
   ]
  },
  {
   "cell_type": "code",
   "execution_count": 61,
   "metadata": {},
   "outputs": [
    {
     "data": {
      "text/plain": "                                                    Correlation  nRatings\nBook-Title                                                               \nThe Lovely Bones: A Novel                              1.000000      1295\nThe Jester                                             0.458123        80\nThe Girl Who Loved Tom Gordon : A Novel                0.419275       118\nBack When We Were Grownups : A Novel (Ballantin...     0.418852       131\nThe King of Torts                                      0.386589       241",
      "text/html": "<div>\n<style scoped>\n    .dataframe tbody tr th:only-of-type {\n        vertical-align: middle;\n    }\n\n    .dataframe tbody tr th {\n        vertical-align: top;\n    }\n\n    .dataframe thead th {\n        text-align: right;\n    }\n</style>\n<table border=\"1\" class=\"dataframe\">\n  <thead>\n    <tr style=\"text-align: right;\">\n      <th></th>\n      <th>Correlation</th>\n      <th>nRatings</th>\n    </tr>\n    <tr>\n      <th>Book-Title</th>\n      <th></th>\n      <th></th>\n    </tr>\n  </thead>\n  <tbody>\n    <tr>\n      <th>The Lovely Bones: A Novel</th>\n      <td>1.000000</td>\n      <td>1295</td>\n    </tr>\n    <tr>\n      <th>The Jester</th>\n      <td>0.458123</td>\n      <td>80</td>\n    </tr>\n    <tr>\n      <th>The Girl Who Loved Tom Gordon : A Novel</th>\n      <td>0.419275</td>\n      <td>118</td>\n    </tr>\n    <tr>\n      <th>Back When We Were Grownups : A Novel (Ballantine Reader's Circle)</th>\n      <td>0.418852</td>\n      <td>131</td>\n    </tr>\n    <tr>\n      <th>The King of Torts</th>\n      <td>0.386589</td>\n      <td>241</td>\n    </tr>\n  </tbody>\n</table>\n</div>"
     },
     "execution_count": 61,
     "metadata": {},
     "output_type": "execute_result"
    }
   ],
   "source": [
    "# code to create the recommendation\n",
    "corrsDF = pd.DataFrame(corrs, columns=['Correlation'])\n",
    "corrsDF.dropna(inplace=True)\n",
    "corrsDF = corrsDF.sort_values('Correlation', ascending=False)\n",
    "\n",
    "corrsDF = corrsDF.merge(ratings_count['nRatings'], on='Book-Title')\n",
    "\n",
    "corrsDF[corrsDF['nRatings']>=75].head()"
   ]
  },
  {
   "cell_type": "markdown",
   "metadata": {},
   "source": [
    "**<span style='background:yellow'>\\<interpret the result></span>**\n",
    "\n",
    "well, it would seem that there are not a lot of books that have a high correlation with the lovely bones. but this might be because there aro no books with as many reviews as that one so ill try another book. too double check. what can be concluded from this table is that the highest recommendation is: the jester. with a Correlation of 0.458"
   ]
  },
  {
   "cell_type": "code",
   "execution_count": 62,
   "outputs": [
    {
     "name": "stderr",
     "output_type": "stream",
     "text": [
      "C:\\Users\\jaimy\\anaconda3\\envs\\stats4\\lib\\site-packages\\numpy\\lib\\function_base.py:2845: RuntimeWarning: Degrees of freedom <= 0 for slice\n",
      "  c = cov(x, y, rowvar, dtype=dtype)\n",
      "C:\\Users\\jaimy\\anaconda3\\envs\\stats4\\lib\\site-packages\\numpy\\lib\\function_base.py:2704: RuntimeWarning: divide by zero encountered in divide\n",
      "  c *= np.true_divide(1, fact)\n"
     ]
    },
    {
     "data": {
      "text/plain": "                                                    Correlation  nRatings\nBook-Title                                                               \nThe Da Vinci Code                                      1.000000       883\nA Kiss of Shadows (Meredith Gentry Novels (Pape...     0.755747        81\nManhattan Hunt Club                                    0.488891       111\nLightning                                              0.443949       134\nPolitically Correct Bedtime Stories: Modern Tal...     0.389716       171",
      "text/html": "<div>\n<style scoped>\n    .dataframe tbody tr th:only-of-type {\n        vertical-align: middle;\n    }\n\n    .dataframe tbody tr th {\n        vertical-align: top;\n    }\n\n    .dataframe thead th {\n        text-align: right;\n    }\n</style>\n<table border=\"1\" class=\"dataframe\">\n  <thead>\n    <tr style=\"text-align: right;\">\n      <th></th>\n      <th>Correlation</th>\n      <th>nRatings</th>\n    </tr>\n    <tr>\n      <th>Book-Title</th>\n      <th></th>\n      <th></th>\n    </tr>\n  </thead>\n  <tbody>\n    <tr>\n      <th>The Da Vinci Code</th>\n      <td>1.000000</td>\n      <td>883</td>\n    </tr>\n    <tr>\n      <th>A Kiss of Shadows (Meredith Gentry Novels (Paperback))</th>\n      <td>0.755747</td>\n      <td>81</td>\n    </tr>\n    <tr>\n      <th>Manhattan Hunt Club</th>\n      <td>0.488891</td>\n      <td>111</td>\n    </tr>\n    <tr>\n      <th>Lightning</th>\n      <td>0.443949</td>\n      <td>134</td>\n    </tr>\n    <tr>\n      <th>Politically Correct Bedtime Stories: Modern Tales for Our Life and Times</th>\n      <td>0.389716</td>\n      <td>171</td>\n    </tr>\n  </tbody>\n</table>\n</div>"
     },
     "execution_count": 62,
     "metadata": {},
     "output_type": "execute_result"
    }
   ],
   "source": [
    "corrs = book_pivot.corrwith(book_pivot['The Da Vinci Code']).sort_values(ascending=False)\n",
    "corrsDF = pd.DataFrame(corrs, columns=['Correlation'])\n",
    "corrsDF.dropna(inplace=True)\n",
    "corrsDF = corrsDF.sort_values('Correlation', ascending=False)\n",
    "\n",
    "corrsDF = corrsDF.merge(ratings_count['nRatings'], on='Book-Title')\n",
    "\n",
    "corrsDF[corrsDF['nRatings']>=75].head()"
   ],
   "metadata": {
    "collapsed": false
   }
  },
  {
   "cell_type": "markdown",
   "source": [
    "this book does seem the have one book that has a high correlation with it. A Kiss of the Shadows has a Correlation of 0.756 so this would be a good recomendation for someone who likes the Da Vinci Code."
   ],
   "metadata": {
    "collapsed": false
   }
  },
  {
   "cell_type": "markdown",
   "metadata": {},
   "source": [
    "It might be nice to have one simple function that could do all the work for us. It should have as input parameters a dataframe, specific field, and minimum number of ratings, and then returns the recommendation.\n",
    "\n",
    "Note that you should first select the fields that meet the minimum number of ratings, and then perform the correlation matrix, etc."
   ]
  },
  {
   "cell_type": "code",
   "execution_count": 69,
   "metadata": {},
   "outputs": [],
   "source": [
    "# code for a python function\n",
    "def recommend(df, field, min_ratings):\n",
    "    # code to make a dataframe with the unique objects, their average score and the number of scores\n",
    "    ratings_count = pd.DataFrame(df.groupby('Book-Title')['Book-Rating'].mean())\n",
    "    ratings_count['nRatings'] = pd.DataFrame(df.groupby('Book-Title')['Book-Rating'].count())\n",
    "    ratings_count.sort_values(by=['nRatings'], ascending=False).head(10000)\n",
    "\n",
    "    book_pivot = df.pivot_table(index='User-ID', columns='Book-Title', values='Book-Rating')\n",
    "    corrs = book_pivot.corrwith(book_pivot[field]).sort_values(ascending=False)\n",
    "    corrsDF = pd.DataFrame(corrs, columns=['Correlation'])\n",
    "    corrsDF.dropna(inplace=True)\n",
    "    corrsDF = corrsDF.sort_values('Correlation', ascending=False)\n",
    "\n",
    "    corrsDF = corrsDF.merge(ratings_count['nRatings'], on='Book-Title')\n",
    "\n",
    "    return corrsDF[corrsDF['nRatings']>=min_ratings].head()\n"
   ]
  },
  {
   "cell_type": "markdown",
   "source": [
    "this function takes a dataframe, a field and a minimum number of ratings. it then returns the top 5 books that have a high correlation with the field. it does this by first creating a pivot table, then it calculates the correlation between the field and the other books. it then creates a dataframe with the correlation and drops the NaN values. it then sorts the values by correlation. it then merges the dataframe with the number of ratings and returns the top 5 books that have a high correlation with the field.\n",
    "\n",
    "it is worth noting that this function does assume that the dataframe tha you feed it contains the index: User-ID, columns: Book-Title and values: Book-Rating. to make this function more universal you could add a few more parameters to the function that would allow you to change the index, columns and values."
   ],
   "metadata": {
    "collapsed": false
   }
  },
  {
   "cell_type": "markdown",
   "metadata": {},
   "source": [
    "Lets test the function:"
   ]
  },
  {
   "cell_type": "code",
   "execution_count": 70,
   "metadata": {},
   "outputs": [
    {
     "name": "stderr",
     "output_type": "stream",
     "text": [
      "C:\\Users\\jaimy\\anaconda3\\envs\\stats4\\lib\\site-packages\\numpy\\lib\\function_base.py:2845: RuntimeWarning: Degrees of freedom <= 0 for slice\n",
      "  c = cov(x, y, rowvar, dtype=dtype)\n",
      "C:\\Users\\jaimy\\anaconda3\\envs\\stats4\\lib\\site-packages\\numpy\\lib\\function_base.py:2704: RuntimeWarning: divide by zero encountered in divide\n",
      "  c *= np.true_divide(1, fact)\n"
     ]
    },
    {
     "data": {
      "text/plain": "                                                    Correlation  nRatings\nBook-Title                                                               \nHarry Potter and the Order of the Phoenix (Book 5)     1.000000       334\nBridget Jones's Diary                                  0.957280       130\nThe Notebook                                           0.574835       116\nThe King of Torts                                      0.543860       241\nThe Boy Next Door                                      0.498496       107",
      "text/html": "<div>\n<style scoped>\n    .dataframe tbody tr th:only-of-type {\n        vertical-align: middle;\n    }\n\n    .dataframe tbody tr th {\n        vertical-align: top;\n    }\n\n    .dataframe thead th {\n        text-align: right;\n    }\n</style>\n<table border=\"1\" class=\"dataframe\">\n  <thead>\n    <tr style=\"text-align: right;\">\n      <th></th>\n      <th>Correlation</th>\n      <th>nRatings</th>\n    </tr>\n    <tr>\n      <th>Book-Title</th>\n      <th></th>\n      <th></th>\n    </tr>\n  </thead>\n  <tbody>\n    <tr>\n      <th>Harry Potter and the Order of the Phoenix (Book 5)</th>\n      <td>1.000000</td>\n      <td>334</td>\n    </tr>\n    <tr>\n      <th>Bridget Jones's Diary</th>\n      <td>0.957280</td>\n      <td>130</td>\n    </tr>\n    <tr>\n      <th>The Notebook</th>\n      <td>0.574835</td>\n      <td>116</td>\n    </tr>\n    <tr>\n      <th>The King of Torts</th>\n      <td>0.543860</td>\n      <td>241</td>\n    </tr>\n    <tr>\n      <th>The Boy Next Door</th>\n      <td>0.498496</td>\n      <td>107</td>\n    </tr>\n  </tbody>\n</table>\n</div>"
     },
     "execution_count": 70,
     "metadata": {},
     "output_type": "execute_result"
    }
   ],
   "source": [
    "# code to test the function\n",
    "recommend(df, 'Harry Potter and the Order of the Phoenix (Book 5)', 75)"
   ]
  },
  {
   "cell_type": "markdown",
   "source": [
    "Here we can conclude that Harry Potter and the Order of the Phoenix (Book 5) has a high correlation with Bridget Jones's Diary wit a Correlation of 0.956 this is actually really high."
   ],
   "metadata": {
    "collapsed": false
   }
  },
  {
   "cell_type": "markdown",
   "metadata": {},
   "source": [
    "<font size=\"5\"><center>-----Chapters 1 is required to be fully completed to get a 60, the next few chapters will give a +10 for each chapter.<br> \n",
    "    However no template is available for these chapters. You will have to create it yourself.\n",
    "    ----</center></font>"
   ]
  },
  {
   "cell_type": "code",
   "execution_count": 11,
   "metadata": {},
   "outputs": [],
   "source": []
  },
  {
   "cell_type": "markdown",
   "metadata": {},
   "source": [
    "# 2. Negative correlations\n",
    "\n",
    "The recommenders so far used, are looking at what if I give a high rating for this, what do you then recommend me. But how about if I give a low rating for something, what would you then recommend me?\n",
    "\n",
    "Explain how and why your solution works, and how to interpret the results."
   ]
  },
  {
   "cell_type": "code",
   "execution_count": 11,
   "metadata": {},
   "outputs": [],
   "source": []
  },
  {
   "cell_type": "markdown",
   "metadata": {},
   "source": [
    "# 3. Content Based\n",
    "\n",
    "Add a chapter showing how a basic content based recommender might work. A starting point for this might be https://www.datacamp.com/community/tutorials/recommender-systems-python (at about 1/3 of the page it starts explaining this in the section called ‘Content based’."
   ]
  },
  {
   "cell_type": "code",
   "execution_count": 11,
   "metadata": {},
   "outputs": [],
   "source": []
  },
  {
   "cell_type": "markdown",
   "metadata": {},
   "source": [
    "# 4. User Based\n",
    "\n",
    "Add a chapter showing how a basic user based recommender might work. A starting point for this might be https://realpython.com/build-recommendation-engine-collaborative-filtering/"
   ]
  },
  {
   "cell_type": "code",
   "execution_count": 11,
   "metadata": {},
   "outputs": [],
   "source": []
  },
  {
   "cell_type": "markdown",
   "metadata": {},
   "source": [
    "# 5. Combination\n",
    "\n",
    "Combine two or more recommendation techniques to get an even better recommendation"
   ]
  },
  {
   "cell_type": "code",
   "execution_count": 11,
   "metadata": {},
   "outputs": [],
   "source": []
  }
 ],
 "metadata": {
  "kernelspec": {
   "display_name": "Python 3 (ipykernel)",
   "language": "python",
   "name": "python3"
  },
  "language_info": {
   "codemirror_mode": {
    "name": "ipython",
    "version": 3
   },
   "file_extension": ".py",
   "mimetype": "text/x-python",
   "name": "python",
   "nbconvert_exporter": "python",
   "pygments_lexer": "ipython3",
   "version": "3.8.13"
  }
 },
 "nbformat": 4,
 "nbformat_minor": 4
}
